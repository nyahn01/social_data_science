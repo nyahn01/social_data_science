{
 "cells": [
  {
   "cell_type": "markdown",
   "metadata": {},
   "source": [
    "Social Data Science WS20/21\n",
    "\n",
    "# Home Assignment 4"
   ]
  },
  {
   "cell_type": "markdown",
   "metadata": {},
   "source": [
    "### General Instructions\n",
    "\n",
    "Submit your solution via Moodle until 23.59pm on Tuesday, February 2nd.\n",
    "Late submissions are accepted for 12 hours following the deadline, with 1/4 of the total possible points deducted from the score.\n",
    "\n",
    "Submit your solutions in teams of 3-4 members.\n",
    "Please denote all members of the team with their student ID and full name in the notebook.\n",
    "Please submit only one notebook per team.\n",
    "Only submit a notebook, do not submit the dataset(s) you used or image files that you have created - these have to be created from your notebook.\n",
    "Also, do NOT compress/zip your submission!\n",
    "\n",
    "Cite ALL your sources for coding this home assignment.\n",
    "In case of plagiarism (copying solutions from other teams or from the internet), ALL team members will be expelled from the course without warning.\n",
    "\n",
    "\n",
    "### Evaluation and Grading\n",
    "\n",
    "Evaluation of your submission is done semi-automatically.\n",
    "Think of it as this notebook being executed once.\n",
    "Afterwards, some test functions are appended to this file and executed respectively.\n",
    "\n",
    "Therefore:\n",
    "* Submit valid _Python3_ code only!\n",
    "* Make sure to restrict yourself to using packages that are automatically installed along with anaconda, plus some additional packages that have been introduced in context of this class. An overview of packages that may be used in this assignment can be found in the file 'environment.yaml'.\n",
    "* Ensure your definitions (functions, classes, methods, variables) follow the specification if\n",
    "  given. The concrete signature and header of a function is usually specified in the task description and via code skeletons.\n",
    "* Again, make sure that all your function as well as variable names match with what we have specified! The automated grading will only match these exact names, and everything that can not be matched will not be graded.\n",
    "* Whenever there is a written task, e.g. task 1d), enter your answer in the specified markdown cell. Do NOT remove the label (e.g. '__A1d):__' ) from the markdown cell, as this will have to be parsed by the grading system and matched to your answer. \n",
    "* Ensure the notebook does not rely on current notebook or system state!\n",
    "  * Use `Kernel --> Restart & Run All` to see if you are using any definitions, variables etc. that \n",
    "    are not in scope anymore.\n",
    "  * Do not rename any of the datasets you use, and load it from the same directory that your ipynb-notebook is located in, i.e., your working directory. In particular, when loading your file via a pandas or numpy command, make sure that it has the form `pd.read_csv(\"example_filename.csv\")` instead of `pd.read_csv(\"C:/User/Path/to/your/Homework/example_filename.csv\")` so that the code directly works from our machines.\n",
    "* Make sure that your code is executable, any task for which the code does not directly run on our machine will be graded with 0 points.\n",
    "  Minimize usage of global variables.\n",
    "* Ensure your code/notebook terminates in reasonable time.\n",
    "* Textual answers must always be backed by code and may not refer to results that are not part of\n",
    "  your submission.\n",
    "\n",
    "\n",
    "**There's a story behind each of these points! Don't expect us to fix your stuff!**"
   ]
  },
  {
   "cell_type": "markdown",
   "metadata": {},
   "source": [
    "##### List team members, including all student IDs, in the cell below:"
   ]
  },
  {
   "cell_type": "code",
   "execution_count": 1,
   "metadata": {},
   "outputs": [],
   "source": [
    "# credentials of all team members (you may add or remove items from the list)\n",
    "team_members = [\n",
    "    {\n",
    "        'first_name': 'Na Young',\n",
    "        'last_name': 'Ahn',\n",
    "        'student_id': 392326\n",
    "    },\n",
    "    {\n",
    "        'first_name': 'Esther',\n",
    "        'last_name': 'Tala',\n",
    "        'student_id': 368095\n",
    "    },\n",
    "    {\n",
    "        'first_name': 'Mika',\n",
    "        'last_name': 'Rosin',\n",
    "        'student_id': 395049\n",
    "    },\n",
    "    {\n",
    "        'first_name': 'Laurin',\n",
    "        'last_name': 'Ellenbeck',\n",
    "        'student_id': 372280\n",
    "    }\n",
    "]"
   ]
  },
  {
   "cell_type": "code",
   "execution_count": 2,
   "metadata": {},
   "outputs": [],
   "source": [
    "# general imports may go here\n",
    "import nltk\n",
    "from typing import List, Optional, Tuple\n",
    "\n",
    "import numpy as np\n",
    "import pandas as pd\n",
    "import matplotlib\n",
    "import matplotlib.pyplot as plt\n",
    "import math\n",
    "from sklearn.metrics import r2_score\n",
    "from sklearn.metrics import confusion_matrix\n",
    "from sklearn.metrics import accuracy_score"
   ]
  },
  {
   "cell_type": "markdown",
   "metadata": {},
   "source": [
    "### Task 1: Stance Versus Sentiment (25 pts)\n"
   ]
  },
  {
   "cell_type": "markdown",
   "metadata": {},
   "source": [
    "In this we will look into the differences between two commonly analyzed constructs when analyzing textual data from social media, namely _stance_ and *sentiment*. We will work with an openly available Twitter dataset for stance detection, which has been used in the [2016 SemEval challenge](https://alt.qcri.org/semeval2016/task6/index.php?id=data-and-tools#), also see [here](  http://www.saifmohammad.com/WebPages/StanceDataset.htm).\n",
    "This datasets contains Tweet about a number of different political target issues, along with annotations regarding the stance towards the target, and the sentiment of a Tweet.  \n",
    "This dataset has been adapted for this assignment, and both stance and senitment are encoded via integer values -1, 0 and 1. In that setting, the value -1 indicates a _negative_ stance or sentiment, 0 indicates a _neutral_ stance or sentiment, and 1 indicates a _positive_ stance or sentiment."
   ]
  },
  {
   "cell_type": "code",
   "execution_count": 3,
   "metadata": {},
   "outputs": [
    {
     "data": {
      "text/html": [
       "<div>\n",
       "<style scoped>\n",
       "    .dataframe tbody tr th:only-of-type {\n",
       "        vertical-align: middle;\n",
       "    }\n",
       "\n",
       "    .dataframe tbody tr th {\n",
       "        vertical-align: top;\n",
       "    }\n",
       "\n",
       "    .dataframe thead th {\n",
       "        text-align: right;\n",
       "    }\n",
       "</style>\n",
       "<table border=\"1\" class=\"dataframe\">\n",
       "  <thead>\n",
       "    <tr style=\"text-align: right;\">\n",
       "      <th></th>\n",
       "      <th>Target</th>\n",
       "      <th>Tweet</th>\n",
       "      <th>Stance</th>\n",
       "      <th>Sentiment</th>\n",
       "    </tr>\n",
       "    <tr>\n",
       "      <th>ID</th>\n",
       "      <th></th>\n",
       "      <th></th>\n",
       "      <th></th>\n",
       "      <th></th>\n",
       "    </tr>\n",
       "  </thead>\n",
       "  <tbody>\n",
       "    <tr>\n",
       "      <th>108</th>\n",
       "      <td>Atheism</td>\n",
       "      <td>Now that the SCOC has ruled Canadians have fre...</td>\n",
       "      <td>1</td>\n",
       "      <td>-1</td>\n",
       "    </tr>\n",
       "    <tr>\n",
       "      <th>118</th>\n",
       "      <td>Atheism</td>\n",
       "      <td>Celebrity atheism is beginning to irk me #init...</td>\n",
       "      <td>-1</td>\n",
       "      <td>-1</td>\n",
       "    </tr>\n",
       "    <tr>\n",
       "      <th>119</th>\n",
       "      <td>Atheism</td>\n",
       "      <td>Leaving Christianity enables you to love the p...</td>\n",
       "      <td>1</td>\n",
       "      <td>1</td>\n",
       "    </tr>\n",
       "    <tr>\n",
       "      <th>122</th>\n",
       "      <td>Atheism</td>\n",
       "      <td>Could all those who believe in a god please le...</td>\n",
       "      <td>1</td>\n",
       "      <td>-1</td>\n",
       "    </tr>\n",
       "    <tr>\n",
       "      <th>126</th>\n",
       "      <td>Atheism</td>\n",
       "      <td>When it comes to scientific discoveries, the #...</td>\n",
       "      <td>1</td>\n",
       "      <td>-1</td>\n",
       "    </tr>\n",
       "  </tbody>\n",
       "</table>\n",
       "</div>"
      ],
      "text/plain": [
       "      Target                                              Tweet  Stance  \\\n",
       "ID                                                                        \n",
       "108  Atheism  Now that the SCOC has ruled Canadians have fre...       1   \n",
       "118  Atheism  Celebrity atheism is beginning to irk me #init...      -1   \n",
       "119  Atheism  Leaving Christianity enables you to love the p...       1   \n",
       "122  Atheism  Could all those who believe in a god please le...       1   \n",
       "126  Atheism  When it comes to scientific discoveries, the #...       1   \n",
       "\n",
       "     Sentiment  \n",
       "ID              \n",
       "108         -1  \n",
       "118         -1  \n",
       "119          1  \n",
       "122         -1  \n",
       "126         -1  "
      ]
     },
     "execution_count": 3,
     "metadata": {},
     "output_type": "execute_result"
    }
   ],
   "source": [
    "df_stance = pd.read_csv(\"tweets_annotated.csv\", index_col = 0)\n",
    "df_stance.head()"
   ]
  },
  {
   "cell_type": "markdown",
   "metadata": {},
   "source": [
    "#### a) Analyzing Stance and Sentiment by Target (10 pts)\n",
    "\n",
    "For each of the different targets in the data, plot the distributions of stances and sentiments againt each other in a grouped barplot. Specifically, each plot should contain three pairs of bars, one pair for _positive_ stance/sentiment, one for _neutral_ stance/sentiment, and one for _negative_ stance/sentiment. Obviously, the bars for stance should be in a different color than the bars for sentiment. Save your plots into a single file called **\"stance_sentiment.png\"**!\n",
    "\n",
    "Do you observe differences in the distributions of these two constructs in general, and on specific targets? Write your answer into cell **A1a)**!"
   ]
  },
  {
   "cell_type": "code",
   "execution_count": 4,
   "metadata": {},
   "outputs": [
    {
     "data": {
      "image/png": "[encoded data removed]",
      "text/plain": [
       "<Figure size 1800x864 with 5 Axes>"
      ]
     },
     "metadata": {
      "needs_background": "light"
     },
     "output_type": "display_data"
    }
   ],
   "source": [
    "# stance\n",
    "df_stance_grouped_stance = df_stance.groupby('Target').Stance.value_counts(normalize=False).unstack().T\n",
    "df_stance_grouped_sentiment = df_stance.groupby('Target').Sentiment.value_counts(normalize=False).unstack().T\n",
    "\n",
    "num_items= len(df_stance_grouped_sentiment.columns)\n",
    "#fig, ax = plt.subplots( nrows= 2, ncols=num_items, figsize = (22,8), num=1)\n",
    "df_stance_grouped_stance = df_stance_grouped_stance.T\n",
    "df_stance_grouped_sentiment = df_stance_grouped_sentiment.T\n",
    "\n",
    "i = 0 \n",
    "\n",
    "fig, ax = plt.subplots( nrows= 1, ncols=num_items, figsize = (25,12))\n",
    "for stance, sentiment in zip(df_stance_grouped_stance.iterrows(), df_stance_grouped_sentiment.iterrows()):\n",
    "    \n",
    "    stance = pd.DataFrame(stance[1]).reset_index()\n",
    "    theme = stance.columns[1]\n",
    "    stance = stance.rename(columns={stance.columns[1]: \"stance\", 'Stance': 'class'})\n",
    "    sentiment = pd.DataFrame(sentiment[1]).reset_index()\n",
    "    sentiment=sentiment.rename(columns={'Sentiment':'class', sentiment.columns[1] : 'sentiment'})\n",
    "    concat = stance.set_index('class').join(sentiment.set_index('class'), on='class').rename_axis(theme).rename({-1:'negative', 0:'neutral', 1:'positive'})\n",
    "    concat.plot.bar(ax=ax[i]) \n",
    "    i+=1\n",
    "plt.savefig(\"stance_sentiment.png\")\n",
    "plt.show()"
   ]
  },
  {
   "cell_type": "markdown",
   "metadata": {},
   "source": [
    "**A1a):** Stance and Sentiment showed similar distribution for three out of five targets: Legalization of Abortion, Hilary Clinton and Feminist Movement. As for Feminist Movement, the difference between negative and positive was greater under sentiment. Two targets: Atheism and Climate Change is a Real Concern, show opposite majority result. For Atheism, negative stance is highest while positive sentiment is highest. As for Climate Change is a Real Concern, results showed a predominately positive stance while the negative sentiment was the highest. We also observe higher number of neutral responses in the sentiment for these two targets."
   ]
  },
  {
   "cell_type": "markdown",
   "metadata": {},
   "source": [
    "#### b) Comparing Overall Distributions (5 pts)\n",
    "\n",
    "Cross-tabulate the absolute occurences of the different sentiments and stances over all instances in the data, regardless of the target. Save these cross-tabulated counts into a pandas dataframe ```xtab_stance```, where rows represent the stances, and columns represent the sentiments. Make sure to label the row and column indices appropriately.\n",
    "To what extent do these two constructs agree or disagree in general? Write your answer into cell **A1b)**!"
   ]
  },
  {
   "cell_type": "code",
   "execution_count": 5,
   "metadata": {},
   "outputs": [
    {
     "data": {
      "text/html": [
       "<div>\n",
       "<style scoped>\n",
       "    .dataframe tbody tr th:only-of-type {\n",
       "        vertical-align: middle;\n",
       "    }\n",
       "\n",
       "    .dataframe tbody tr th {\n",
       "        vertical-align: top;\n",
       "    }\n",
       "\n",
       "    .dataframe thead th {\n",
       "        text-align: right;\n",
       "    }\n",
       "</style>\n",
       "<table border=\"1\" class=\"dataframe\">\n",
       "  <thead>\n",
       "    <tr style=\"text-align: right;\">\n",
       "      <th>Sentiment</th>\n",
       "      <th>-1</th>\n",
       "      <th>0</th>\n",
       "      <th>1</th>\n",
       "    </tr>\n",
       "    <tr>\n",
       "      <th>Stance</th>\n",
       "      <th></th>\n",
       "      <th></th>\n",
       "      <th></th>\n",
       "    </tr>\n",
       "  </thead>\n",
       "  <tbody>\n",
       "    <tr>\n",
       "      <th>-1</th>\n",
       "      <td>705</td>\n",
       "      <td>16</td>\n",
       "      <td>229</td>\n",
       "    </tr>\n",
       "    <tr>\n",
       "      <th>0</th>\n",
       "      <td>5</td>\n",
       "      <td>3</td>\n",
       "      <td>1</td>\n",
       "    </tr>\n",
       "    <tr>\n",
       "      <th>1</th>\n",
       "      <td>382</td>\n",
       "      <td>57</td>\n",
       "      <td>248</td>\n",
       "    </tr>\n",
       "  </tbody>\n",
       "</table>\n",
       "</div>"
      ],
      "text/plain": [
       "Sentiment   -1   0    1\n",
       "Stance                 \n",
       "-1         705  16  229\n",
       " 0           5   3    1\n",
       " 1         382  57  248"
      ]
     },
     "execution_count": 5,
     "metadata": {},
     "output_type": "execute_result"
    }
   ],
   "source": [
    "Stance = df_stance.Stance\n",
    "Sentiment = df_stance.Sentiment\n",
    "xtab_stance = pd.crosstab(Stance, Sentiment)\n",
    "xtab_stance"
   ]
  },
  {
   "cell_type": "markdown",
   "metadata": {},
   "source": [
    "**A1b):** The two constructs agree in about 58 percent of the time."
   ]
  },
  {
   "cell_type": "markdown",
   "metadata": {},
   "source": [
    "#### c) Deploying VADER (3 pts)\n",
    "\n",
    "We want to assess the accuracy of the VADER sentiment analyzer that is also built into the ```nltk``` package (cf. exercise 11).\n",
    "To convert the numerical _compound_ sentiment score, which is returned from the ```polarity_scores()``` function into the three classes, we will consider all scores lower than $0.1$ as *negative*, all scores in the interval $[-0.1,0.1]$ as *neutral*, and each score bigger than $0.1$ as *positive*. \n",
    "Apply the VADER sentiment analyzer on the complete data, convert the scores into classes as described above, and save the resulting classisfications into a vector ```y_vader```!"
   ]
  },
  {
   "cell_type": "code",
   "execution_count": 6,
   "metadata": {},
   "outputs": [
    {
     "name": "stderr",
     "output_type": "stream",
     "text": [
      "[nltk_data] Downloading package vader_lexicon to /home/mr/nltk_data...\n",
      "[nltk_data]   Package vader_lexicon is already up-to-date!\n"
     ]
    }
   ],
   "source": [
    "# download vader_lexicon if you haven't done so already\n",
    "nltk.download('vader_lexicon')\n",
    "\n",
    "from nltk.sentiment.vader import SentimentIntensityAnalyzer\n",
    "\n",
    "analyzer = SentimentIntensityAnalyzer()\n",
    "\n",
    "# prepare input data\n",
    "tweets = df_stance.Tweet\n",
    "results = []\n",
    "length = len(df_stance.index)\n",
    "for i in range(length):\n",
    "    score = analyzer.polarity_scores(df_stance.Tweet.iloc[i])['compound']\n",
    "    if score < -0.1: \n",
    "        results.append(-1)\n",
    "    elif score > 0.1: \n",
    "        results.append(1)\n",
    "    else:\n",
    "        results.append(0)\n",
    "\n",
    "results = pd.DataFrame(results).rename(columns={0: 'classes'})"
   ]
  },
  {
   "cell_type": "code",
   "execution_count": 7,
   "metadata": {},
   "outputs": [],
   "source": [
    "y_vader = results"
   ]
  },
  {
   "cell_type": "markdown",
   "metadata": {},
   "source": [
    "#### d) Evaluating Predictions (7 pts)\n",
    "\n",
    "Compare your predictions from task c) with the true sentiment as well as the true stance of each tweet in the data. Towards that end, compute the both the confusion matrix as well as the accuracy of your predictions ```y_vader``` with respect to the true sentiments and stances in the data. \n",
    "Store the corresponding confusion matrices and accruracies into variables ```cm_stance```, ```acc_stance```, ```cm_sentiment```, and ```acc_sentiment```, respectively.\n",
    "\n",
    "Based on the results, do you think that VADER is suited to either predict stance or sentiment of Tweets? Write and explain your answer in cell **A1d)**!"
   ]
  },
  {
   "cell_type": "code",
   "execution_count": 8,
   "metadata": {},
   "outputs": [
    {
     "name": "stdout",
     "output_type": "stream",
     "text": [
      "acc_stance =  0.3772782503037667 \n",
      " cm_stance: \n",
      "  [[329 264 357]\n",
      " [  5   3   1]\n",
      " [207 191 289]]\n"
     ]
    }
   ],
   "source": [
    "cm_stance = confusion_matrix( df_stance.Stance.to_numpy(),results.to_numpy().squeeze(), labels=[-1, 0, 1])\n",
    "acc_stance = accuracy_score(y_true=df_stance.Stance.to_numpy(), y_pred=results.to_numpy().squeeze(), normalize=True)\n",
    "print ('acc_stance = ', acc_stance, '\\n', 'cm_stance: \\n ', cm_stance)"
   ]
  },
  {
   "cell_type": "code",
   "execution_count": 9,
   "metadata": {},
   "outputs": [
    {
     "name": "stdout",
     "output_type": "stream",
     "text": [
      "acc_sentiment =  0.4975698663426488 \n",
      " cm_sentiment: \n",
      "  [[474 302 316]\n",
      " [ 10  40  26]\n",
      " [ 57 116 305]]\n"
     ]
    }
   ],
   "source": [
    "cm_sentiment = confusion_matrix( df_stance.Sentiment.to_numpy(),results.to_numpy().squeeze(), labels=[-1, 0, 1])\n",
    "acc_sentiment =  accuracy_score(y_true=df_stance.Sentiment.to_numpy(), y_pred=results.to_numpy().squeeze(), normalize=True)\n",
    "print ('acc_sentiment = ', acc_sentiment, '\\n', 'cm_sentiment: \\n ', cm_sentiment)"
   ]
  },
  {
   "cell_type": "markdown",
   "metadata": {},
   "source": [
    "**A1d):** VADER is more suited to predict sentiment than stance, but the accuracy is lower than 50 percent in both predictions. The accuracy we get from the stance is only slightly better than the percentage we get from guessing the class randomly (0.33 from guessing vs 0.37 from stance prediction). Whether VADER is more suited to predict stance or sentiment also highly depends on how well stance correlates to sentiment."
   ]
  },
  {
   "cell_type": "markdown",
   "metadata": {},
   "source": [
    "### Task 2: Basic Text Mining (45 pts)\n",
    "\n",
    "In this task we will illustrate some basic, traditional text mining methods which can be used to perform sentiment. If you are interested in this topic, our chair teaches more advanced methods in our _Text Mining_ class.  \n",
    "The data we are using in this task is a set of 10000 product reviews from *Epinions*, which was was a general consumer review website which has now been shut down.\n",
    "The data was taken and adapted from the [UCSD Repository of Recommender Systems Datasets](https://cseweb.ucsd.edu/~jmcauley/datasets.html).\n",
    "\n",
    "In the cells below, we read in the textual reviews into a list ```reviews```, and the corresponding ratings (values between 1 and 5, with 5 being the best score) into a numpy array ```ratings```."
   ]
  },
  {
   "cell_type": "code",
   "execution_count": 10,
   "metadata": {},
   "outputs": [],
   "source": [
    "### read in data\n",
    "\n",
    "# read in reviews\n",
    "with open(\"epinions.txt\") as f:\n",
    "    reviews = f.readlines()\n",
    "reviews = [x.strip() for x in reviews] \n",
    "f.close()\n",
    "\n",
    "# read in ratings\n",
    "ratings = np.loadtxt(\"epinions_ratings.txt\", unpack=False)"
   ]
  },
  {
   "cell_type": "code",
   "execution_count": 11,
   "metadata": {},
   "outputs": [
    {
     "name": "stdout",
     "output_type": "stream",
     "text": [
      "i got this printer from minolta as a warranty replacement for the minolta pagepro 1100l which didnt work under windows xp the unit is a little bulkier than the 1100l also the paper tray is fully enclosed however the plastic hinged top does not close as fully as the 1100l did and more dust gets into the printer\n",
      "4.0\n"
     ]
    }
   ],
   "source": [
    "# feel free to explore the reviews yourself\n",
    "print(reviews[0])\n",
    "print(ratings[0])\n"
   ]
  },
  {
   "cell_type": "markdown",
   "metadata": {},
   "source": [
    "#### a) Building a Dictionary (5 pts)\n",
    "\n",
    "Build a dictionary ```word_count```, which contains each word that occurs in the corpus as key, and the number of times that each word appears among all of the reviews as values.\n",
    "To build that dictionary, iterate through all of the reviews in the data and apply the given tokenizer ```review_tokenizer``` to convert each review into a clean list of tokens which can then be fed into our dictionary of words (and their counts)."
   ]
  },
  {
   "cell_type": "code",
   "execution_count": 12,
   "metadata": {},
   "outputs": [],
   "source": [
    "import string  \n",
    "\n",
    "def review_tokenizer(review):\n",
    "    t = review.lower() # lowercase\n",
    "    t = [c for c in t if not (c in string.punctuation)] # remove punctuation\n",
    "    t = ''.join(t) # convert back to string\n",
    "    return t.strip().split() # tokenize\n"
   ]
  },
  {
   "cell_type": "code",
   "execution_count": 13,
   "metadata": {
    "pycharm": {
     "is_executing": true
    }
   },
   "outputs": [],
   "source": [
    "word_count = dict()\n",
    "\n",
    "for review in reviews:\n",
    "    tokens = review_tokenizer(review)\n",
    "    for token in tokens:\n",
    "        if token not in word_count:\n",
    "            word_count[token] = 1 \n",
    "        else:\n",
    "            word_count[token] += 1\n"
   ]
  },
  {
   "cell_type": "code",
   "execution_count": 14,
   "metadata": {
    "pycharm": {
     "is_executing": true
    }
   },
   "outputs": [
    {
     "name": "stdout",
     "output_type": "stream",
     "text": [
      "39519\n",
      "834\n",
      "135\n",
      "43\n"
     ]
    }
   ],
   "source": [
    "print(word_count[\"i\"])\n",
    "print(word_count[\"printer\"])\n",
    "print(word_count[\"dust\"])\n",
    "print(word_count[\"minolta\"])"
   ]
  },
  {
   "cell_type": "markdown",
   "metadata": {},
   "source": [
    "#### b) Analyzing Word Counts (3 pts)\n",
    "\n",
    "Determine the total number of **distinct** words in your data, and save this number into a variable ```n_words```.\n",
    "Further, determine the 20 most frequent words occuring in the review data, and save them as a **list of (word,count)-tuples** into a variable ```most_freq_words```!"
   ]
  },
  {
   "cell_type": "code",
   "execution_count": 15,
   "metadata": {
    "pycharm": {
     "is_executing": true
    }
   },
   "outputs": [],
   "source": [
    "n_words = len(word_count)"
   ]
  },
  {
   "cell_type": "code",
   "execution_count": 16,
   "metadata": {
    "pycharm": {
     "is_executing": true
    }
   },
   "outputs": [],
   "source": [
    "most_freq_words = sorted(word_count.items(), key=lambda item: item[1])[-20:]"
   ]
  },
  {
   "cell_type": "markdown",
   "metadata": {},
   "source": [
    "#### c) Building a Feature Matrix (10 pts)\n",
    "\n",
    "For the rest of this task, we want to predict the star ratings based on the textual reviews. To do so, we have to convert textual data into a numerical matrix format. One simple ways to do this is to create a binary matrix, in which each column represents a word from a given dictionary, and each row represents a document (in our case, a review). Then each element of the matrix is either $1$, if the word represented by the column occurs in the document that the row represents, or $0$ otherwise.   \n",
    "Write a function ```build_feature_matrix``` that implements this procedure, using the function signature specified in the cell below!"
   ]
  },
  {
   "cell_type": "code",
   "execution_count": 17,
   "metadata": {
    "pycharm": {
     "is_executing": true
    }
   },
   "outputs": [],
   "source": [
    "def build_feature_matrix(documents: List[str], dictionary: List[str], tokenizer = review_tokenizer) -> pd.DataFrame:\n",
    "    \"\"\"\n",
    "    :param documents: list of strings, each string representing a document (in our case, a review)\n",
    "    :param dictionary: list of strings, each string representing a word in our dictionary\n",
    "    :param tokenizer: tokenizing function that has to be used to preprocess each document, \n",
    "    :                defaults to the given review_tokenizer\n",
    "    :return: pandas dataframe of binary occurance scores - i-th row represents i-th document, \n",
    "    :        columns should be named after the word that they represent\n",
    "    \"\"\"\n",
    "    \n",
    "    rows = []\n",
    "    \n",
    "    for document in documents:\n",
    "        tokens = review_tokenizer(document)\n",
    "        row = [1 if i in tokens else 0 for i in dictionary]\n",
    "        rows.append(row)\n",
    "    \n",
    "    return pd.DataFrame(rows, columns=dictionary)    "
   ]
  },
  {
   "cell_type": "markdown",
   "metadata": {},
   "source": [
    "#### d) Sentiment Analysis (4 pts)\n",
    "\n",
    "Apply your implementation from c) to build a feature matrix from the _Epinions_ reviews, based on a dictionary of **only the 1000 most frequent words** in the data. Train a ridge regression model ```reg_bin``` with regularization weight $\\alpha = 1$ on the full data, and report the $r^2$ score obtained on the training data by saving it into the variable ```r2_2d```. \n",
    "Further, determine the words with the 10 highest, and the words with the 10 lowest regression weights, and save them as **lists of (word,weight)-tuples** into variables called ```l_highest_2d``` and ```l_lowest_2d```! "
   ]
  },
  {
   "cell_type": "code",
   "execution_count": 18,
   "metadata": {
    "pycharm": {
     "is_executing": true
    }
   },
   "outputs": [
    {
     "data": {
      "text/html": [
       "<div>\n",
       "<style scoped>\n",
       "    .dataframe tbody tr th:only-of-type {\n",
       "        vertical-align: middle;\n",
       "    }\n",
       "\n",
       "    .dataframe tbody tr th {\n",
       "        vertical-align: top;\n",
       "    }\n",
       "\n",
       "    .dataframe thead th {\n",
       "        text-align: right;\n",
       "    }\n",
       "</style>\n",
       "<table border=\"1\" class=\"dataframe\">\n",
       "  <thead>\n",
       "    <tr style=\"text-align: right;\">\n",
       "      <th></th>\n",
       "      <th>60</th>\n",
       "      <th>allow</th>\n",
       "      <th>9</th>\n",
       "      <th>mop</th>\n",
       "      <th>arent</th>\n",
       "      <th>sent</th>\n",
       "      <th>land</th>\n",
       "      <th>alot</th>\n",
       "      <th>v8</th>\n",
       "      <th>parents</th>\n",
       "      <th>...</th>\n",
       "      <th>in</th>\n",
       "      <th>for</th>\n",
       "      <th>of</th>\n",
       "      <th>is</th>\n",
       "      <th>it</th>\n",
       "      <th>to</th>\n",
       "      <th>a</th>\n",
       "      <th>and</th>\n",
       "      <th>i</th>\n",
       "      <th>the</th>\n",
       "    </tr>\n",
       "  </thead>\n",
       "  <tbody>\n",
       "    <tr>\n",
       "      <th>0</th>\n",
       "      <td>0</td>\n",
       "      <td>0</td>\n",
       "      <td>0</td>\n",
       "      <td>0</td>\n",
       "      <td>0</td>\n",
       "      <td>0</td>\n",
       "      <td>0</td>\n",
       "      <td>0</td>\n",
       "      <td>0</td>\n",
       "      <td>0</td>\n",
       "      <td>...</td>\n",
       "      <td>0</td>\n",
       "      <td>1</td>\n",
       "      <td>0</td>\n",
       "      <td>1</td>\n",
       "      <td>0</td>\n",
       "      <td>0</td>\n",
       "      <td>1</td>\n",
       "      <td>1</td>\n",
       "      <td>1</td>\n",
       "      <td>1</td>\n",
       "    </tr>\n",
       "    <tr>\n",
       "      <th>1</th>\n",
       "      <td>0</td>\n",
       "      <td>0</td>\n",
       "      <td>0</td>\n",
       "      <td>0</td>\n",
       "      <td>0</td>\n",
       "      <td>0</td>\n",
       "      <td>0</td>\n",
       "      <td>0</td>\n",
       "      <td>0</td>\n",
       "      <td>0</td>\n",
       "      <td>...</td>\n",
       "      <td>1</td>\n",
       "      <td>0</td>\n",
       "      <td>0</td>\n",
       "      <td>0</td>\n",
       "      <td>1</td>\n",
       "      <td>1</td>\n",
       "      <td>0</td>\n",
       "      <td>0</td>\n",
       "      <td>1</td>\n",
       "      <td>1</td>\n",
       "    </tr>\n",
       "    <tr>\n",
       "      <th>2</th>\n",
       "      <td>0</td>\n",
       "      <td>0</td>\n",
       "      <td>0</td>\n",
       "      <td>0</td>\n",
       "      <td>0</td>\n",
       "      <td>0</td>\n",
       "      <td>0</td>\n",
       "      <td>0</td>\n",
       "      <td>0</td>\n",
       "      <td>0</td>\n",
       "      <td>...</td>\n",
       "      <td>0</td>\n",
       "      <td>1</td>\n",
       "      <td>0</td>\n",
       "      <td>1</td>\n",
       "      <td>1</td>\n",
       "      <td>1</td>\n",
       "      <td>1</td>\n",
       "      <td>1</td>\n",
       "      <td>1</td>\n",
       "      <td>1</td>\n",
       "    </tr>\n",
       "    <tr>\n",
       "      <th>3</th>\n",
       "      <td>0</td>\n",
       "      <td>0</td>\n",
       "      <td>0</td>\n",
       "      <td>0</td>\n",
       "      <td>0</td>\n",
       "      <td>0</td>\n",
       "      <td>0</td>\n",
       "      <td>0</td>\n",
       "      <td>0</td>\n",
       "      <td>0</td>\n",
       "      <td>...</td>\n",
       "      <td>0</td>\n",
       "      <td>1</td>\n",
       "      <td>1</td>\n",
       "      <td>0</td>\n",
       "      <td>1</td>\n",
       "      <td>1</td>\n",
       "      <td>1</td>\n",
       "      <td>1</td>\n",
       "      <td>1</td>\n",
       "      <td>1</td>\n",
       "    </tr>\n",
       "    <tr>\n",
       "      <th>4</th>\n",
       "      <td>0</td>\n",
       "      <td>0</td>\n",
       "      <td>0</td>\n",
       "      <td>0</td>\n",
       "      <td>0</td>\n",
       "      <td>0</td>\n",
       "      <td>0</td>\n",
       "      <td>0</td>\n",
       "      <td>0</td>\n",
       "      <td>0</td>\n",
       "      <td>...</td>\n",
       "      <td>1</td>\n",
       "      <td>0</td>\n",
       "      <td>0</td>\n",
       "      <td>0</td>\n",
       "      <td>1</td>\n",
       "      <td>1</td>\n",
       "      <td>0</td>\n",
       "      <td>0</td>\n",
       "      <td>1</td>\n",
       "      <td>1</td>\n",
       "    </tr>\n",
       "  </tbody>\n",
       "</table>\n",
       "<p>5 rows × 1000 columns</p>\n",
       "</div>"
      ],
      "text/plain": [
       "   60  allow  9  mop  arent  sent  land  alot  v8  parents  ...  in  for  of  \\\n",
       "0   0      0  0    0      0     0     0     0   0        0  ...   0    1   0   \n",
       "1   0      0  0    0      0     0     0     0   0        0  ...   1    0   0   \n",
       "2   0      0  0    0      0     0     0     0   0        0  ...   0    1   0   \n",
       "3   0      0  0    0      0     0     0     0   0        0  ...   0    1   1   \n",
       "4   0      0  0    0      0     0     0     0   0        0  ...   1    0   0   \n",
       "\n",
       "   is  it  to  a  and  i  the  \n",
       "0   1   0   0  1    1  1    1  \n",
       "1   0   1   1  0    0  1    1  \n",
       "2   1   1   1  1    1  1    1  \n",
       "3   0   1   1  1    1  1    1  \n",
       "4   0   1   1  0    0  1    1  \n",
       "\n",
       "[5 rows x 1000 columns]"
      ]
     },
     "execution_count": 18,
     "metadata": {},
     "output_type": "execute_result"
    }
   ],
   "source": [
    "from sklearn.linear_model import Ridge\n",
    "\n",
    "zip_1d, _ = zip(*sorted(word_count.items(), key=lambda item: item[1])[-1000:])\n",
    "most_freq_1000_words = zip_1d\n",
    "df_bin_matrix = build_feature_matrix(reviews, most_freq_1000_words, review_tokenizer)\n",
    "df_bin_matrix.head()"
   ]
  },
  {
   "cell_type": "code",
   "execution_count": 19,
   "metadata": {
    "pycharm": {
     "is_executing": true
    }
   },
   "outputs": [],
   "source": [
    "reg_bin = Ridge(alpha=1.0)\n",
    "reg_bin.fit(df_bin_matrix, ratings)\n",
    "y_bin_pred = reg_bin.predict(df_bin_matrix)"
   ]
  },
  {
   "cell_type": "code",
   "execution_count": 20,
   "metadata": {
    "pycharm": {
     "is_executing": true
    }
   },
   "outputs": [
    {
     "name": "stdout",
     "output_type": "stream",
     "text": [
      "0.4060235406284728\n"
     ]
    }
   ],
   "source": [
    "r2_2d = r2_score(ratings, y_bin_pred)\n",
    "print(r2_2d)"
   ]
  },
  {
   "cell_type": "code",
   "execution_count": 21,
   "metadata": {
    "pycharm": {
     "is_executing": true
    }
   },
   "outputs": [
    {
     "name": "stdout",
     "output_type": "stream",
     "text": [
      "[('world', 0.33482089843308144), ('carpet', 0.3393660080676492), ('bike', 0.34238762447773496), ('love', 0.36908983599547396), ('hyundai', 0.37456716536720736), ('excellent', 0.37576550325050045), ('amazing', 0.3974992246271054), ('britax', 0.48175173876817134), ('rover', 0.6432237726906768), ('mop', 0.8749934118190201)]\n",
      "[('verizon', -0.7038085497514628), ('maytag', -0.6077990019316963), ('router', -0.5434296338400807), ('land', -0.5285409871217016), ('slow', -0.4941531455417819), ('stay', -0.48882287787929757), ('poor', -0.48450328503119094), ('unfortunately', -0.40604874591791035), ('acura', -0.3904969963174773), ('oven', -0.35428562648642264)]\n"
     ]
    }
   ],
   "source": [
    "all_2d = sorted(dict(zip(most_freq_1000_words, reg_bin.coef_.tolist())).items(), key=lambda item: item[1])\n",
    "\n",
    "l_highest_2d = all_2d[-10:]\n",
    "l_lowest_2d = all_2d[:10]\n",
    "\n",
    "print(l_highest_2d)\n",
    "print(l_lowest_2d)"
   ]
  },
  {
   "cell_type": "markdown",
   "metadata": {},
   "source": [
    "#### e) The TF-IDF score (15 pts)\n",
    "\n",
    "One way to estimate the \"relevance\" of a word within a document (e.g., a tweet or a Reddit post) is based on the idea to compare its frequency within a document to the frequency that it occurs in all the documents in the data.  \n",
    "This idea is formalized in the TF-IDF score, which is the product of the term frequency (TF) and the inverse document frequency (IDF) of a word. \n",
    "\n",
    "Given a word $w$ and a set of documents $D$, the term frequency of a word $w$ in a document $d\\in D$ is defined as the value\n",
    "$$\n",
    "\\text{tf}(w,d) = |\\{t\\in d | t=w \\}|,\n",
    "$$\n",
    "i.e., the absolute number of times the word $w$ occurs in document $d$. In contrast, the document frequency of a word $w$ over all documents in $D$ is defined as\n",
    "$$\n",
    "\\text{df}(w,D) = |\\{d\\in D | w\\in D \\}|,\n",
    "$$\n",
    "i.e., the absolute number documents that the word $w$ occurs in. \n",
    "One then defines the inverse document frequency as\n",
    "$$\n",
    "\\text{idf}(w,D) = \\log\\frac{|D|}{ |df(w,D)|},\n",
    "$$\n",
    "and lastly, the TF-IDF score as\n",
    "$$\n",
    "\\text{tf-idf}(w,d,D) =\\text{tf}(w,d) *\\text{idf}(w,D).\n",
    "$$\n",
    "\n",
    "Write a function ```build_tfidf_matrix``` that computes the TF-IDF scores for all words in a given dictionary over all documents in a given dataset. The output should be a matrix similar to what is returned from ```build_feature_matrix```, only that in this case, the matrix entries should be the TD-IDF scores rather than binary occurance values."
   ]
  },
  {
   "cell_type": "code",
   "execution_count": 22,
   "metadata": {
    "pycharm": {
     "is_executing": true
    }
   },
   "outputs": [
    {
     "data": {
      "text/html": [
       "<div>\n",
       "<style scoped>\n",
       "    .dataframe tbody tr th:only-of-type {\n",
       "        vertical-align: middle;\n",
       "    }\n",
       "\n",
       "    .dataframe tbody tr th {\n",
       "        vertical-align: top;\n",
       "    }\n",
       "\n",
       "    .dataframe thead th {\n",
       "        text-align: right;\n",
       "    }\n",
       "</style>\n",
       "<table border=\"1\" class=\"dataframe\">\n",
       "  <thead>\n",
       "    <tr style=\"text-align: right;\">\n",
       "      <th></th>\n",
       "      <th>in</th>\n",
       "      <th>for</th>\n",
       "      <th>of</th>\n",
       "      <th>is</th>\n",
       "      <th>it</th>\n",
       "      <th>to</th>\n",
       "      <th>a</th>\n",
       "      <th>and</th>\n",
       "      <th>i</th>\n",
       "      <th>the</th>\n",
       "    </tr>\n",
       "  </thead>\n",
       "  <tbody>\n",
       "    <tr>\n",
       "      <th>0</th>\n",
       "      <td>0.000000</td>\n",
       "      <td>0.007245</td>\n",
       "      <td>0.000000</td>\n",
       "      <td>0.017448</td>\n",
       "      <td>0.000000</td>\n",
       "      <td>0.000000</td>\n",
       "      <td>0.007168</td>\n",
       "      <td>0.003580</td>\n",
       "      <td>0.004110</td>\n",
       "      <td>0.017057</td>\n",
       "    </tr>\n",
       "    <tr>\n",
       "      <th>1</th>\n",
       "      <td>0.018899</td>\n",
       "      <td>0.000000</td>\n",
       "      <td>0.000000</td>\n",
       "      <td>0.000000</td>\n",
       "      <td>0.011510</td>\n",
       "      <td>0.016882</td>\n",
       "      <td>0.000000</td>\n",
       "      <td>0.000000</td>\n",
       "      <td>0.007450</td>\n",
       "      <td>0.008833</td>\n",
       "    </tr>\n",
       "    <tr>\n",
       "      <th>2</th>\n",
       "      <td>0.000000</td>\n",
       "      <td>0.008081</td>\n",
       "      <td>0.000000</td>\n",
       "      <td>0.009731</td>\n",
       "      <td>0.021249</td>\n",
       "      <td>0.005194</td>\n",
       "      <td>0.003998</td>\n",
       "      <td>0.007986</td>\n",
       "      <td>0.018337</td>\n",
       "      <td>0.005436</td>\n",
       "    </tr>\n",
       "    <tr>\n",
       "      <th>3</th>\n",
       "      <td>0.000000</td>\n",
       "      <td>0.006386</td>\n",
       "      <td>0.005328</td>\n",
       "      <td>0.000000</td>\n",
       "      <td>0.007836</td>\n",
       "      <td>0.006568</td>\n",
       "      <td>0.005687</td>\n",
       "      <td>0.008205</td>\n",
       "      <td>0.012318</td>\n",
       "      <td>0.005155</td>\n",
       "    </tr>\n",
       "    <tr>\n",
       "      <th>4</th>\n",
       "      <td>0.015119</td>\n",
       "      <td>0.000000</td>\n",
       "      <td>0.000000</td>\n",
       "      <td>0.000000</td>\n",
       "      <td>0.027624</td>\n",
       "      <td>0.013505</td>\n",
       "      <td>0.000000</td>\n",
       "      <td>0.000000</td>\n",
       "      <td>0.005960</td>\n",
       "      <td>0.007067</td>\n",
       "    </tr>\n",
       "  </tbody>\n",
       "</table>\n",
       "</div>"
      ],
      "text/plain": [
       "         in       for        of        is        it        to         a  \\\n",
       "0  0.000000  0.007245  0.000000  0.017448  0.000000  0.000000  0.007168   \n",
       "1  0.018899  0.000000  0.000000  0.000000  0.011510  0.016882  0.000000   \n",
       "2  0.000000  0.008081  0.000000  0.009731  0.021249  0.005194  0.003998   \n",
       "3  0.000000  0.006386  0.005328  0.000000  0.007836  0.006568  0.005687   \n",
       "4  0.015119  0.000000  0.000000  0.000000  0.027624  0.013505  0.000000   \n",
       "\n",
       "        and         i       the  \n",
       "0  0.003580  0.004110  0.017057  \n",
       "1  0.000000  0.007450  0.008833  \n",
       "2  0.007986  0.018337  0.005436  \n",
       "3  0.008205  0.012318  0.005155  \n",
       "4  0.000000  0.005960  0.007067  "
      ]
     },
     "execution_count": 22,
     "metadata": {},
     "output_type": "execute_result"
    }
   ],
   "source": [
    "def build_tfidf_matrix(documents: List[str], dictionary: List[str], tokenizer = review_tokenizer) -> pd.DataFrame:\n",
    "    \"\"\"\n",
    "    :param documents: list of strings, each string representing a document (in our case, a review)\n",
    "    :param dictionary: list of strings, each string representing a word in our dictionary\n",
    "    :param tokenizer: tokenizing function that has to be used to preprocess each document, \n",
    "    :                defaults to the given review_tokenizer\n",
    "    :return: pandas dataframe of tf-idf scores - i-th row represents i-th document, \n",
    "    :        columns should be named after the word that they represent\n",
    "    \"\"\"\n",
    "    \n",
    "    rows = []\n",
    "    idf = {}\n",
    "    N = len(documents)\n",
    "    \n",
    "    tokenized = []\n",
    "    \n",
    "    for document in documents:\n",
    "             tokenized.append(review_tokenizer(document))\n",
    "\n",
    "    for word in dictionary:\n",
    "        count = 0.0\n",
    "        for i in range(N):\n",
    "            if word in tokenized[i]:\n",
    "                count += 1\n",
    "        idf[word] = math.log(N / count)\n",
    "    \n",
    "    for tokens in tokenized:\n",
    "        row = [(tokens.count(i) / float(len(tokens))) * idf[i] for i in dictionary]        \n",
    "        \n",
    "        rows.append(row)\n",
    "        \n",
    "    return pd.DataFrame(rows, columns=dictionary)\n",
    "\n",
    "zip_1f, _ = zip(*sorted(word_count.items(), key=lambda item: item[1])[-10:])\n",
    "most_freq_1000_words = zip_1f\n",
    "df_tfidf_matrix = build_tfidf_matrix(reviews, most_freq_1000_words, review_tokenizer)\n",
    "df_tfidf_matrix.head()"
   ]
  },
  {
   "cell_type": "markdown",
   "metadata": {},
   "source": [
    "#### f) Sentiment Analysis with TF-IDF Scores (3 pts)\n",
    "\n",
    "Similar to task d), apply your implementation from e) to build a TF-IDF matrix from the _Epinions_ reviews, based on a dictionary of **only the 1000 most frequent words** in the data. \n",
    "Train a ridge regression model ```reg_tfidf``` with regularization weight $\\alpha = 1$ on the full data, and report the $r^2$ score obtained on the training data by saving it into the variable ```r2_2f```. "
   ]
  },
  {
   "cell_type": "code",
   "execution_count": 23,
   "metadata": {
    "pycharm": {
     "is_executing": true
    }
   },
   "outputs": [
    {
     "data": {
      "text/html": [
       "<div>\n",
       "<style scoped>\n",
       "    .dataframe tbody tr th:only-of-type {\n",
       "        vertical-align: middle;\n",
       "    }\n",
       "\n",
       "    .dataframe tbody tr th {\n",
       "        vertical-align: top;\n",
       "    }\n",
       "\n",
       "    .dataframe thead th {\n",
       "        text-align: right;\n",
       "    }\n",
       "</style>\n",
       "<table border=\"1\" class=\"dataframe\">\n",
       "  <thead>\n",
       "    <tr style=\"text-align: right;\">\n",
       "      <th></th>\n",
       "      <th>60</th>\n",
       "      <th>allow</th>\n",
       "      <th>9</th>\n",
       "      <th>mop</th>\n",
       "      <th>arent</th>\n",
       "      <th>sent</th>\n",
       "      <th>land</th>\n",
       "      <th>alot</th>\n",
       "      <th>v8</th>\n",
       "      <th>parents</th>\n",
       "      <th>...</th>\n",
       "      <th>in</th>\n",
       "      <th>for</th>\n",
       "      <th>of</th>\n",
       "      <th>is</th>\n",
       "      <th>it</th>\n",
       "      <th>to</th>\n",
       "      <th>a</th>\n",
       "      <th>and</th>\n",
       "      <th>i</th>\n",
       "      <th>the</th>\n",
       "    </tr>\n",
       "  </thead>\n",
       "  <tbody>\n",
       "    <tr>\n",
       "      <th>0</th>\n",
       "      <td>0.0</td>\n",
       "      <td>0.0</td>\n",
       "      <td>0.0</td>\n",
       "      <td>0.0</td>\n",
       "      <td>0.0</td>\n",
       "      <td>0.0</td>\n",
       "      <td>0.0</td>\n",
       "      <td>0.0</td>\n",
       "      <td>0.0</td>\n",
       "      <td>0.0</td>\n",
       "      <td>...</td>\n",
       "      <td>0.000000</td>\n",
       "      <td>0.007245</td>\n",
       "      <td>0.000000</td>\n",
       "      <td>0.017448</td>\n",
       "      <td>0.000000</td>\n",
       "      <td>0.000000</td>\n",
       "      <td>0.007168</td>\n",
       "      <td>0.003580</td>\n",
       "      <td>0.004110</td>\n",
       "      <td>0.017057</td>\n",
       "    </tr>\n",
       "    <tr>\n",
       "      <th>1</th>\n",
       "      <td>0.0</td>\n",
       "      <td>0.0</td>\n",
       "      <td>0.0</td>\n",
       "      <td>0.0</td>\n",
       "      <td>0.0</td>\n",
       "      <td>0.0</td>\n",
       "      <td>0.0</td>\n",
       "      <td>0.0</td>\n",
       "      <td>0.0</td>\n",
       "      <td>0.0</td>\n",
       "      <td>...</td>\n",
       "      <td>0.018899</td>\n",
       "      <td>0.000000</td>\n",
       "      <td>0.000000</td>\n",
       "      <td>0.000000</td>\n",
       "      <td>0.011510</td>\n",
       "      <td>0.016882</td>\n",
       "      <td>0.000000</td>\n",
       "      <td>0.000000</td>\n",
       "      <td>0.007450</td>\n",
       "      <td>0.008833</td>\n",
       "    </tr>\n",
       "    <tr>\n",
       "      <th>2</th>\n",
       "      <td>0.0</td>\n",
       "      <td>0.0</td>\n",
       "      <td>0.0</td>\n",
       "      <td>0.0</td>\n",
       "      <td>0.0</td>\n",
       "      <td>0.0</td>\n",
       "      <td>0.0</td>\n",
       "      <td>0.0</td>\n",
       "      <td>0.0</td>\n",
       "      <td>0.0</td>\n",
       "      <td>...</td>\n",
       "      <td>0.000000</td>\n",
       "      <td>0.008081</td>\n",
       "      <td>0.000000</td>\n",
       "      <td>0.009731</td>\n",
       "      <td>0.021249</td>\n",
       "      <td>0.005194</td>\n",
       "      <td>0.003998</td>\n",
       "      <td>0.007986</td>\n",
       "      <td>0.018337</td>\n",
       "      <td>0.005436</td>\n",
       "    </tr>\n",
       "    <tr>\n",
       "      <th>3</th>\n",
       "      <td>0.0</td>\n",
       "      <td>0.0</td>\n",
       "      <td>0.0</td>\n",
       "      <td>0.0</td>\n",
       "      <td>0.0</td>\n",
       "      <td>0.0</td>\n",
       "      <td>0.0</td>\n",
       "      <td>0.0</td>\n",
       "      <td>0.0</td>\n",
       "      <td>0.0</td>\n",
       "      <td>...</td>\n",
       "      <td>0.000000</td>\n",
       "      <td>0.006386</td>\n",
       "      <td>0.005328</td>\n",
       "      <td>0.000000</td>\n",
       "      <td>0.007836</td>\n",
       "      <td>0.006568</td>\n",
       "      <td>0.005687</td>\n",
       "      <td>0.008205</td>\n",
       "      <td>0.012318</td>\n",
       "      <td>0.005155</td>\n",
       "    </tr>\n",
       "    <tr>\n",
       "      <th>4</th>\n",
       "      <td>0.0</td>\n",
       "      <td>0.0</td>\n",
       "      <td>0.0</td>\n",
       "      <td>0.0</td>\n",
       "      <td>0.0</td>\n",
       "      <td>0.0</td>\n",
       "      <td>0.0</td>\n",
       "      <td>0.0</td>\n",
       "      <td>0.0</td>\n",
       "      <td>0.0</td>\n",
       "      <td>...</td>\n",
       "      <td>0.015119</td>\n",
       "      <td>0.000000</td>\n",
       "      <td>0.000000</td>\n",
       "      <td>0.000000</td>\n",
       "      <td>0.027624</td>\n",
       "      <td>0.013505</td>\n",
       "      <td>0.000000</td>\n",
       "      <td>0.000000</td>\n",
       "      <td>0.005960</td>\n",
       "      <td>0.007067</td>\n",
       "    </tr>\n",
       "  </tbody>\n",
       "</table>\n",
       "<p>5 rows × 1000 columns</p>\n",
       "</div>"
      ],
      "text/plain": [
       "    60  allow    9  mop  arent  sent  land  alot   v8  parents  ...        in  \\\n",
       "0  0.0    0.0  0.0  0.0    0.0   0.0   0.0   0.0  0.0      0.0  ...  0.000000   \n",
       "1  0.0    0.0  0.0  0.0    0.0   0.0   0.0   0.0  0.0      0.0  ...  0.018899   \n",
       "2  0.0    0.0  0.0  0.0    0.0   0.0   0.0   0.0  0.0      0.0  ...  0.000000   \n",
       "3  0.0    0.0  0.0  0.0    0.0   0.0   0.0   0.0  0.0      0.0  ...  0.000000   \n",
       "4  0.0    0.0  0.0  0.0    0.0   0.0   0.0   0.0  0.0      0.0  ...  0.015119   \n",
       "\n",
       "        for        of        is        it        to         a       and  \\\n",
       "0  0.007245  0.000000  0.017448  0.000000  0.000000  0.007168  0.003580   \n",
       "1  0.000000  0.000000  0.000000  0.011510  0.016882  0.000000  0.000000   \n",
       "2  0.008081  0.000000  0.009731  0.021249  0.005194  0.003998  0.007986   \n",
       "3  0.006386  0.005328  0.000000  0.007836  0.006568  0.005687  0.008205   \n",
       "4  0.000000  0.000000  0.000000  0.027624  0.013505  0.000000  0.000000   \n",
       "\n",
       "          i       the  \n",
       "0  0.004110  0.017057  \n",
       "1  0.007450  0.008833  \n",
       "2  0.018337  0.005436  \n",
       "3  0.012318  0.005155  \n",
       "4  0.005960  0.007067  \n",
       "\n",
       "[5 rows x 1000 columns]"
      ]
     },
     "execution_count": 23,
     "metadata": {},
     "output_type": "execute_result"
    }
   ],
   "source": [
    "zip_1f, _ = zip(*sorted(word_count.items(), key=lambda item: item[1])[-1000:])\n",
    "most_freq_1000_words = zip_1f\n",
    "df_tfidf_matrix = build_tfidf_matrix(reviews, most_freq_1000_words, review_tokenizer)\n",
    "df_tfidf_matrix.head()"
   ]
  },
  {
   "cell_type": "code",
   "execution_count": 24,
   "metadata": {
    "pycharm": {
     "is_executing": true
    }
   },
   "outputs": [],
   "source": [
    "reg_tfidf = Ridge(alpha=1.0)\n",
    "reg_tfidf.fit(df_tfidf_matrix, ratings)\n",
    "y_tfidf_pred = reg_bin.predict(df_tfidf_matrix)"
   ]
  },
  {
   "cell_type": "code",
   "execution_count": 25,
   "metadata": {
    "pycharm": {
     "is_executing": true
    }
   },
   "outputs": [
    {
     "name": "stdout",
     "output_type": "stream",
     "text": [
      "0.028337003262503213\n"
     ]
    }
   ],
   "source": [
    "r2_2f = r2_score(ratings, y_tfidf_pred)\n",
    "print(r2_2f)"
   ]
  },
  {
   "cell_type": "markdown",
   "metadata": {},
   "source": [
    "#### g) Model Evaluation (5 pts)\n",
    "\n",
    "Evaluate the resulting $r^2$ scores from your models in d) und f). Did you obtain decent predictions, and a significant increase in performance from using the TF-IDF scores? Also, considering the data processing pipleline in this task, what could be ways to improve the performance of our predictions?   \n",
    "Provide a thorough answer in cell **A2g)**!"
   ]
  },
  {
   "cell_type": "markdown",
   "metadata": {},
   "source": [
    "**A2g):** The binary approach results in a better r2 score than tf-idf. To get better results, the preprocessing needs to be improved. Stemming and stop word removal should be used to lessen the impact of uninteresting words.\n",
    "The prediction of the binary matrix are mediocre at best and the prediction of tf-idf is really bad."
   ]
  },
  {
   "cell_type": "markdown",
   "metadata": {},
   "source": [
    "### Task 3: Poststratification (30 pts)\n",
    "\n",
    "In this final task, we assume that we have conducted a survey from which we would like to estimate the average number of hours per week that individuals from our population spend exercising.\n",
    "The population is split by wealth and adulthood, and for each combination of attributes, we have obtained the following number of samples within our survey."
   ]
  },
  {
   "cell_type": "code",
   "execution_count": 26,
   "metadata": {
    "pycharm": {
     "is_executing": true
    },
    "scrolled": false
   },
   "outputs": [
    {
     "data": {
      "text/html": [
       "<div>\n",
       "<style scoped>\n",
       "    .dataframe tbody tr th:only-of-type {\n",
       "        vertical-align: middle;\n",
       "    }\n",
       "\n",
       "    .dataframe tbody tr th {\n",
       "        vertical-align: top;\n",
       "    }\n",
       "\n",
       "    .dataframe thead th {\n",
       "        text-align: right;\n",
       "    }\n",
       "</style>\n",
       "<table border=\"1\" class=\"dataframe\">\n",
       "  <thead>\n",
       "    <tr style=\"text-align: right;\">\n",
       "      <th></th>\n",
       "      <th>Poor</th>\n",
       "      <th>Middle Class</th>\n",
       "      <th>Rich</th>\n",
       "    </tr>\n",
       "  </thead>\n",
       "  <tbody>\n",
       "    <tr>\n",
       "      <th>Child</th>\n",
       "      <td>10</td>\n",
       "      <td>20</td>\n",
       "      <td>30</td>\n",
       "    </tr>\n",
       "    <tr>\n",
       "      <th>Adult</th>\n",
       "      <td>10</td>\n",
       "      <td>20</td>\n",
       "      <td>40</td>\n",
       "    </tr>\n",
       "  </tbody>\n",
       "</table>\n",
       "</div>"
      ],
      "text/plain": [
       "       Poor  Middle Class  Rich\n",
       "Child    10            20    30\n",
       "Adult    10            20    40"
      ]
     },
     "execution_count": 26,
     "metadata": {},
     "output_type": "execute_result"
    }
   ],
   "source": [
    "df_sample = pd.read_csv(\"sample_dis.csv\", sep=';', index_col=0)\n",
    "df_sample"
   ]
  },
  {
   "cell_type": "markdown",
   "metadata": {},
   "source": [
    "However, we know that our sample sizes are not representative for our population. Unfortunately, we do not now the exact cross-tabulated distribution of the whole population, but only the marginal values which are given below."
   ]
  },
  {
   "cell_type": "code",
   "execution_count": 27,
   "metadata": {
    "pycharm": {
     "is_executing": true
    },
    "scrolled": true
   },
   "outputs": [
    {
     "name": "stdout",
     "output_type": "stream",
     "text": [
      "Row Marginals:\n",
      "Child    11500\n",
      "Adult    40150\n",
      "dtype: int64\n",
      "\n",
      "Column Marginals:\n",
      "Poor            30000\n",
      "Middle Class    21350\n",
      "Rich              300\n",
      "dtype: int64\n"
     ]
    }
   ],
   "source": [
    "print(\"Row Marginals:\")\n",
    "adult_marginals = pd.Series({'Child' : 11500, \n",
    "                        'Adult': 40150})\n",
    "print(adult_marginals)\n",
    "\n",
    "\n",
    "wealth_marginals = pd.Series({'Poor' : 30000, \n",
    "                         'Middle Class': 21350,\n",
    "                         'Rich' : 300 })\n",
    "print(\"\\nColumn Marginals:\")\n",
    "print(wealth_marginals)"
   ]
  },
  {
   "cell_type": "markdown",
   "metadata": {},
   "source": [
    "#### a) Raking (20 pts)\n",
    "\n",
    "To determine the appropriate weights for all the samples in our population, we want to implement the iterative raking procedure for 2-dimensional population tables that was introduced in lecture.\n",
    "Recall that in this procedure, you start with a matrix of cross-tabulated sample sizes, which we would like to adjust to reflect the true marginal distributions of the attributes that are cross-tabulated.\n",
    "This is done in an iterative manner, where in each iteration, we \n",
    "1. proportionally adjust each row of the matrix to so that the row sums equal the given row marginals, and then\n",
    "2. proportionally adjust each column of the matrix to so that the column sums equal the given column marginals,  \n",
    "\n",
    "until we have converged. In our setting, we will consider the iteration to be converged, if the both the L1-distances between the given row marginals and the row sums of the adjusted matrix, as well as between the given column marginals and the column sums of the adjusted matrix, are lower than a convergence threshold $\\epsilon$.\n",
    "We then return the matrix of post-stratification weights, which is obtained by element-wise division of the final adjusted matrix over the original matrix of cross-tabulated sample sizes.\n",
    "\n",
    "Write a function ```rake```, which implements this procedure, using the specification in the cell below. To check whether your function returns the correct results, you can apply your implementation on the given data, i.e., call  \n",
    "```rake(df_sample, adult_marginals, wealth_marginals)```  \n",
    "and compare your result to the true weights stored in the file 'pstweights.csv'."
   ]
  },
  {
   "cell_type": "code",
   "execution_count": 28,
   "metadata": {
    "pycharm": {
     "is_executing": true
    }
   },
   "outputs": [],
   "source": [
    "def rake(sample_frame: pd.DataFrame, row_marginals: pd.Series, col_marginals: pd.Series, eps: Optional[float] = 1e-03):\n",
    "    \"\"\"\n",
    "    :param sample_frame: pandas dataframe which cross-tabulates frequencies of two attributes\n",
    "    :param row_marginals: pandas series representing the marginal distribution of the row attribute\n",
    "    :param col_marginals: pandas series representing the marginal distribution of the column attribute\n",
    "    :param eps: float, convergence parameter\n",
    "    :return: pandas dataframe of sample weights\n",
    "    \"\"\"\n",
    "   \n",
    "    \n",
    "    # your code here\n",
    "    init_scaling_factor = col_marginals.sum()/sample_frame.values.sum()\n",
    "    sample_frame = init_scaling_factor * sample_frame\n",
    "    \n",
    "#    iter = 0\n",
    "#    maxiter = 5\n",
    "    error = 10000\n",
    "    while (error > eps):\n",
    "#    while (error > 1e-3) and (iter < maxiter):\n",
    "#        iter = iter + 1\n",
    "        row_scaling_factors = row_marginals / sample_frame.T.loc[:].sum()\n",
    "        sample_frame = row_scaling_factors.to_numpy().reshape(2,1) * sample_frame\n",
    "\n",
    "        col_scaling_factors = col_marginals / sample_frame.loc[:].sum()\n",
    "        sample_frame = col_scaling_factors.to_numpy() * sample_frame\n",
    "        \n",
    "        error = sum(abs(sample_frame.T.loc[:].sum()- adult_marginals))\n",
    "    \n",
    "    return sample_frame/df_sample"
   ]
  },
  {
   "cell_type": "code",
   "execution_count": 29,
   "metadata": {
    "pycharm": {
     "is_executing": true
    }
   },
   "outputs": [
    {
     "data": {
      "text/html": [
       "<div>\n",
       "<style scoped>\n",
       "    .dataframe tbody tr th:only-of-type {\n",
       "        vertical-align: middle;\n",
       "    }\n",
       "\n",
       "    .dataframe tbody tr th {\n",
       "        vertical-align: top;\n",
       "    }\n",
       "\n",
       "    .dataframe thead th {\n",
       "        text-align: right;\n",
       "    }\n",
       "</style>\n",
       "<table border=\"1\" class=\"dataframe\">\n",
       "  <thead>\n",
       "    <tr style=\"text-align: right;\">\n",
       "      <th></th>\n",
       "      <th>Poor</th>\n",
       "      <th>Middle Class</th>\n",
       "      <th>Rich</th>\n",
       "    </tr>\n",
       "  </thead>\n",
       "  <tbody>\n",
       "    <tr>\n",
       "      <th>Child</th>\n",
       "      <td>668.756557</td>\n",
       "      <td>237.965875</td>\n",
       "      <td>1.770564</td>\n",
       "    </tr>\n",
       "    <tr>\n",
       "      <th>Adult</th>\n",
       "      <td>2331.243443</td>\n",
       "      <td>829.534125</td>\n",
       "      <td>6.172077</td>\n",
       "    </tr>\n",
       "  </tbody>\n",
       "</table>\n",
       "</div>"
      ],
      "text/plain": [
       "              Poor  Middle Class      Rich\n",
       "Child   668.756557    237.965875  1.770564\n",
       "Adult  2331.243443    829.534125  6.172077"
      ]
     },
     "execution_count": 29,
     "metadata": {},
     "output_type": "execute_result"
    }
   ],
   "source": [
    "# true weights for given data, for you to test\n",
    "df_weights = pd.read_csv(\"pstweights.csv\", sep=';', index_col=0)\n",
    "df_weights"
   ]
  },
  {
   "cell_type": "markdown",
   "metadata": {},
   "source": [
    "#### b) Reweighting (10 pts)\n",
    "\n",
    "Assume that the average exercising hours per population group that you have determined from your survey are given by the dataframe below. "
   ]
  },
  {
   "cell_type": "code",
   "execution_count": 30,
   "metadata": {
    "pycharm": {
     "is_executing": true
    },
    "scrolled": true
   },
   "outputs": [
    {
     "data": {
      "text/html": [
       "<div>\n",
       "<style scoped>\n",
       "    .dataframe tbody tr th:only-of-type {\n",
       "        vertical-align: middle;\n",
       "    }\n",
       "\n",
       "    .dataframe tbody tr th {\n",
       "        vertical-align: top;\n",
       "    }\n",
       "\n",
       "    .dataframe thead th {\n",
       "        text-align: right;\n",
       "    }\n",
       "</style>\n",
       "<table border=\"1\" class=\"dataframe\">\n",
       "  <thead>\n",
       "    <tr style=\"text-align: right;\">\n",
       "      <th></th>\n",
       "      <th>Poor</th>\n",
       "      <th>Middle Class</th>\n",
       "      <th>Rich</th>\n",
       "    </tr>\n",
       "  </thead>\n",
       "  <tbody>\n",
       "    <tr>\n",
       "      <th>Child</th>\n",
       "      <td>6</td>\n",
       "      <td>10</td>\n",
       "      <td>12</td>\n",
       "    </tr>\n",
       "    <tr>\n",
       "      <th>Adult</th>\n",
       "      <td>2</td>\n",
       "      <td>6</td>\n",
       "      <td>10</td>\n",
       "    </tr>\n",
       "  </tbody>\n",
       "</table>\n",
       "</div>"
      ],
      "text/plain": [
       "       Poor  Middle Class  Rich\n",
       "Child     6            10    12\n",
       "Adult     2             6    10"
      ]
     },
     "execution_count": 30,
     "metadata": {},
     "output_type": "execute_result"
    }
   ],
   "source": [
    "df_exercise = pd.read_csv(\"exercise.csv\", sep=';', index_col=0)\n",
    "df_exercise"
   ]
  },
  {
   "cell_type": "markdown",
   "metadata": {},
   "source": [
    "Make use of the poststratification weights to compute the average weekly exercising hours over the whole population, as well as the weekly average over all children in the population. Save the corresponding mean values into variables ```av_total``` and ```av_children```, respectively!"
   ]
  },
  {
   "cell_type": "code",
   "execution_count": 31,
   "metadata": {
    "pycharm": {
     "is_executing": true
    },
    "scrolled": true
   },
   "outputs": [
    {
     "data": {
      "text/html": [
       "<div>\n",
       "<style scoped>\n",
       "    .dataframe tbody tr th:only-of-type {\n",
       "        vertical-align: middle;\n",
       "    }\n",
       "\n",
       "    .dataframe tbody tr th {\n",
       "        vertical-align: top;\n",
       "    }\n",
       "\n",
       "    .dataframe thead th {\n",
       "        text-align: right;\n",
       "    }\n",
       "</style>\n",
       "<table border=\"1\" class=\"dataframe\">\n",
       "  <thead>\n",
       "    <tr style=\"text-align: right;\">\n",
       "      <th></th>\n",
       "      <th>Poor</th>\n",
       "      <th>Middle Class</th>\n",
       "      <th>Rich</th>\n",
       "    </tr>\n",
       "  </thead>\n",
       "  <tbody>\n",
       "    <tr>\n",
       "      <th>Child</th>\n",
       "      <td>6687.56557</td>\n",
       "      <td>4759.317497</td>\n",
       "      <td>53.116933</td>\n",
       "    </tr>\n",
       "    <tr>\n",
       "      <th>Adult</th>\n",
       "      <td>23312.43443</td>\n",
       "      <td>16590.682503</td>\n",
       "      <td>246.883067</td>\n",
       "    </tr>\n",
       "  </tbody>\n",
       "</table>\n",
       "</div>"
      ],
      "text/plain": [
       "              Poor  Middle Class        Rich\n",
       "Child   6687.56557   4759.317497   53.116933\n",
       "Adult  23312.43443  16590.682503  246.883067"
      ]
     },
     "metadata": {},
     "output_type": "display_data"
    },
    {
     "data": {
      "text/html": [
       "<div>\n",
       "<style scoped>\n",
       "    .dataframe tbody tr th:only-of-type {\n",
       "        vertical-align: middle;\n",
       "    }\n",
       "\n",
       "    .dataframe tbody tr th {\n",
       "        vertical-align: top;\n",
       "    }\n",
       "\n",
       "    .dataframe thead th {\n",
       "        text-align: right;\n",
       "    }\n",
       "</style>\n",
       "<table border=\"1\" class=\"dataframe\">\n",
       "  <thead>\n",
       "    <tr style=\"text-align: right;\">\n",
       "      <th></th>\n",
       "      <th>Poor</th>\n",
       "      <th>Middle Class</th>\n",
       "      <th>Rich</th>\n",
       "    </tr>\n",
       "  </thead>\n",
       "  <tbody>\n",
       "    <tr>\n",
       "      <th>Child</th>\n",
       "      <td>40125.393418</td>\n",
       "      <td>47593.174971</td>\n",
       "      <td>637.403199</td>\n",
       "    </tr>\n",
       "    <tr>\n",
       "      <th>Adult</th>\n",
       "      <td>46624.868861</td>\n",
       "      <td>99544.095017</td>\n",
       "      <td>2468.830668</td>\n",
       "    </tr>\n",
       "  </tbody>\n",
       "</table>\n",
       "</div>"
      ],
      "text/plain": [
       "               Poor  Middle Class         Rich\n",
       "Child  40125.393418  47593.174971   637.403199\n",
       "Adult  46624.868861  99544.095017  2468.830668"
      ]
     },
     "metadata": {},
     "output_type": "display_data"
    }
   ],
   "source": [
    "df_population = df_sample*df_weights\n",
    "display(df_population)\n",
    "total_population = sum(df_population.loc[:].sum())\n",
    "df_total_hours = df_population * df_exercise\n",
    "display(df_total_hours)\n",
    "total_hours = sum(df_total_hours.loc[:].sum())\n",
    "\n",
    "child_population = df_population.loc[\"Child\"].sum()\n",
    "child_hours = df_total_hours.loc[\"Child\"].sum()\n"
   ]
  },
  {
   "cell_type": "code",
   "execution_count": 32,
   "metadata": {
    "pycharm": {
     "is_executing": true
    }
   },
   "outputs": [
    {
     "data": {
      "text/plain": [
       "4.58845626589662"
      ]
     },
     "metadata": {},
     "output_type": "display_data"
    },
    {
     "data": {
      "text/plain": [
       "7.683127964147605"
      ]
     },
     "metadata": {},
     "output_type": "display_data"
    }
   ],
   "source": [
    "av_total = total_hours/total_population\n",
    "av_children = child_hours/child_population\n",
    "\n",
    "display(av_total)\n",
    "display(av_children)"
   ]
  }
 ],
 "metadata": {
  "kernelspec": {
   "display_name": "Python 3",
   "language": "python",
   "name": "python3"
  },
  "language_info": {
   "codemirror_mode": {
    "name": "ipython",
    "version": 3
   },
   "file_extension": ".py",
   "mimetype": "text/x-python",
   "name": "python",
   "nbconvert_exporter": "python",
   "pygments_lexer": "ipython3",
   "version": "3.8.6"
  }
 },
 "nbformat": 4,
 "nbformat_minor": 4
}