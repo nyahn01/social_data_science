{
 "cells": [
  {
   "cell_type": "markdown",
   "metadata": {},
   "source": [
    "Social Data Science WS20/21\n",
    "\n",
    "# Home Assignment 3"
   ]
  },
  {
   "cell_type": "markdown",
   "metadata": {},
   "source": [
    "### General Instructions\n",
    "\n",
    "Submit your solution via Moodle until 23.59pm on Tuesday, January 12th.\n",
    "Late submissions are accepted for 12 hours following the deadline, with 1/4 of the total possible points deducted from the score.\n",
    "\n",
    "Submit your solutions in teams of up 3-4 members.\n",
    "Please denote all members of the team with their student ID and full name in the notebook.\n",
    "Please only make one submission per team.\n",
    "Only submit the notebook and the image files that you have created in tasks 1b) and 1d), do not submit anything else, like, for instance, any of the datasets that you have used.\n",
    "Also, do NOT compress/zip your submission!\n",
    "\n",
    "Cite ALL your sources for coding this home assignment.\n",
    "In case of plagiarism (copying solutions from other teams or from the internet), ALL team members will be expelled from the course without warning.\n",
    "\n",
    "\n",
    "### Evaluation and Grading\n",
    "\n",
    "Evaluation of your submission is done semi-automatically.\n",
    "Think of it as this notebook being executed once.\n",
    "Afterwards, some test functions are appended to this file and executed respectively.\n",
    "\n",
    "Therefore:\n",
    "* Submit valid _Python3_ code only!\n",
    "* Restrict yourself to using packages that are automatically installed along with anaconda, plus additional packages that have been introduced in context of this class. An overview of packages that may be used in this assignment can be found in the file 'environment.yaml'.\n",
    "* Ensure your definitions (functions, classes, methods, variables) follow the specification if\n",
    "  given. The concrete signature and header of a function is usually specified in the task description and via code skeletons.\n",
    "* Again, make sure that all your function as well as variable names match with what we have specified! The automated grading will only match these exact names, and everything that is not matching will not be graded.\n",
    "* This also holds for the plots you have to create and submit - always use the name that is specified! \n",
    "* Whenever there is a written task, e.g. task 1d), enter your answer in the specified markdown cell. Do NOT remove the label (e.g. '__A1:__' ) from the markdown cell, as this will have to be parsed by the grading system and matched to your answer. \n",
    "* Ensure the notebook does not rely on current notebook or system state!\n",
    "  * Use `Kernel --> Restart & Run All` to see if you are using any definitions, variables etc. that \n",
    "    are not in scope anymore.\n",
    "  * Do not rename any of the datasets you use, and load it from the same directory that your ipynb-notebook is located in, i.e., your working directory. In particular, when loading your file via a pandas or numpy command, make sure that it has the form `pd.read_csv(\"example_filename.csv\")` instead of `pd.read_csv(\"C:/User/Path/to/your/Homework/example_filename.csv\")` so that the code directly works from our machines.\n",
    "* Make sure that your code is executable, any task for which the code does not directly run on our machine will be graded with 0 points. Minimize usage of global variables.\n",
    "* Ensure your code/notebook terminates in reasonable time.\n",
    "* Textual answers must always be backed by code and may not refer to results that are not part of\n",
    "  your submission.\n",
    "\n",
    "\n",
    "**There's a story behind each of these points! Don't expect us to fix your stuff!**"
   ]
  },
  {
   "cell_type": "markdown",
   "metadata": {},
   "source": [
    "##### List team members, including all student IDs, in the cell below:"
   ]
  },
  {
   "cell_type": "code",
   "execution_count": 1,
   "metadata": {},
   "outputs": [],
   "source": [
    "# credentials of all team members (you may add or remove items from the dictionary, but keep this dictionary structure)\n",
    "team_members = [\n",
    "    {\n",
    "        'first_name': 'Na Young',\n",
    "        'last_name': 'Ahn',\n",
    "        'student_id': 392326\n",
    "    },\n",
    "    {\n",
    "        'first_name': 'Esther',\n",
    "        'last_name': 'Tala',\n",
    "        'student_id': 368095\n",
    "    },\n",
    "    {\n",
    "        'first_name': 'Mika',\n",
    "        'last_name': 'Rosin',\n",
    "        'student_id': 395049\n",
    "    },\n",
    "    {\n",
    "        'first_name': 'Laurin',\n",
    "        'last_name': 'Ellenbeck',\n",
    "        'student_id': 372280\n",
    "    }\n",
    "]"
   ]
  },
  {
   "cell_type": "code",
   "execution_count": 2,
   "metadata": {},
   "outputs": [],
   "source": [
    "# general imports may go here\n",
    "from typing import List, Optional, Tuple\n",
    "\n",
    "\n",
    "import numpy as np\n",
    "import pandas as pd\n",
    "from matplotlib import pyplot as plt\n",
    "\n",
    "import sklearn as sk\n",
    "from sklearn import preprocessing\n",
    "from sklearn.cluster import KMeans\n",
    "from sklearn.linear_model import LogisticRegression\n",
    "from sklearn.naive_bayes import GaussianNB\n",
    "from sklearn.model_selection import train_test_split\n",
    "from sklearn.metrics import accuracy_score\n"
   ]
  },
  {
   "cell_type": "markdown",
   "metadata": {},
   "source": [
    "###  Task 1: $k$-Means Clustering (45 pts)\n",
    "\n",
    "We want to apply the $k$-means clustering algorithm introduced in lecture to assign clusters to the dataset in \"clusters.txt\", which is loaded and plotted in the cell below."
   ]
  },
  {
   "cell_type": "code",
   "execution_count": 3,
   "metadata": {},
   "outputs": [
    {
     "data": {
      "image/png": "[encoded data removed]",
      "text/plain": [
       "<Figure size 432x288 with 1 Axes>"
      ]
     },
     "metadata": {
      "needs_background": "light"
     },
     "output_type": "display_data"
    }
   ],
   "source": [
    "X_clusters = np.loadtxt(\"clusters.txt\")\n",
    "plt.scatter(X_clusters[:,0],X_clusters[:,1], s=0.5)\n",
    "plt.show()"
   ]
  },
  {
   "cell_type": "markdown",
   "metadata": {},
   "source": [
    "#### a) Implementing k-means (20 pts)\n",
    "\n",
    "Implement the $k$-means clustering algorithm as specified in the cell below."
   ]
  },
  {
   "cell_type": "code",
   "execution_count": 4,
   "metadata": {},
   "outputs": [],
   "source": [
    "def k_means(X: np.ndarray, k : int = 2, init_points : Optional[List[int]] = None) -> Tuple[np.ndarray, np.ndarray]:\n",
    "    \"\"\"\n",
    "    :param X: numerical 2D numpy array, each row is a data point\n",
    "    :param k: number of clusters, ignored if init_points is not None\n",
    "    :param init_points: list of row indices which indicate the data points that the clusters are initialized with\n",
    "             -> default is None, indicating that random points from the input data X are initialized as cluster centers\n",
    "                if specified, k is chosen as the number of cluster centers, and input for k is ignored\n",
    "    :return: two numpy arrays:\n",
    "                - labels: 1D numpy array with cluster labels in {1,...,k}\n",
    "                - centroids: 2D numpy array with k rows which denote the cluster centers\n",
    "    \"\"\"\n",
    "    labels = np.zeros(len(X))\n",
    "    centroids = init_points\n",
    "    \n",
    "    # if init_points are not given or are not the same length as k # choose them randomly\n",
    "    if init_points == None: \n",
    "        init_points = X[np.random.randint(X.shape[0], size=k)]\n",
    "    # assign x to correct clustercenter\n",
    "    centroids = init_points\n",
    "    centroids_temp = np.zeros_like(centroids)\n",
    "    \n",
    "    while_counter = 0\n",
    "    while (centroids_temp != centroids).all() and while_counter < 20: \n",
    "        while_counter += 1 \n",
    "        \n",
    "        #for the first loop execution\n",
    "        if np.amax(centroids_temp)!=0:\n",
    "            centroids = centroids_temp\n",
    "            \n",
    "        # compute new labels\n",
    "        for idx, x in enumerate(X):\n",
    "            d = [np.linalg.norm(x - center) for center in centroids]\n",
    "            labels[idx] = np.argmin(d)  \n",
    "        \n",
    "        #compute centroids \n",
    "        for idx_k, k in enumerate(centroids):\n",
    "            indices = [idx for idx, x in enumerate(X) if labels[idx] == idx_k]\n",
    "            if len(indices) == 0:\n",
    "                centroids_temp[idx_k] = k\n",
    "                continue\n",
    "            mean_k = X_sum = np.sum(X[indices], axis=0)/len(X[indices])\n",
    "            centroids_temp[idx_k] = mean_k\n",
    "            np.round(centroids_temp, decimals=5, out=centroids_temp)\n",
    "            \n",
    "    return labels, centroids "
   ]
  },
  {
   "cell_type": "markdown",
   "metadata": {},
   "source": [
    "#### b) Application with random initialization (5 pts)\n",
    "\n",
    "Apply your implementation from a) 10 times on the data from clusters.txt, choosing $k = 4$ and random initalization of cluster centers. For each run, scatterplot the data as above, with different colors indicating the different clusters, and save your plots into a single file \"clusters1b.png\" which contains 10 subplots. How often do you think the resulting clusters are appropriate?\n",
    "Write your answer, including a brief explanation, into cell ***A1b)***!"
   ]
  },
  {
   "cell_type": "code",
   "execution_count": 5,
   "metadata": {},
   "outputs": [
    {
     "name": "stderr",
     "output_type": "stream",
     "text": [
      "<ipython-input-5-ec0a76883162>:21: UserWarning: Matplotlib is currently using module://ipykernel.pylab.backend_inline, which is a non-GUI backend, so cannot show the figure.\n",
      "  fig.show()\n"
     ]
    },
    {
     "data": {
      "image/png": "[encoded data removed]",
      "text/plain": [
       "<Figure size 432x288 with 10 Axes>"
      ]
     },
     "metadata": {
      "needs_background": "light"
     },
     "output_type": "display_data"
    }
   ],
   "source": [
    "fig = plt.figure()\n",
    "for i in range(10):\n",
    "    labels, centroids = k_means(X_clusters, k=4)\n",
    "    k_zero = np.asarray([x for idx, x in enumerate(X_clusters) if labels[idx] == 0])\n",
    "    k_one = np.asarray([x for idx, x in enumerate(X_clusters) if labels[idx] == 1 ])\n",
    "    k_two = np.asarray([x for idx, x in enumerate(X_clusters) if labels[idx] == 2 ])\n",
    "    k_three = np.asarray([x for idx, x in enumerate(X_clusters) if labels[idx] == 3 ])\n",
    "\n",
    "    \n",
    "    fig.add_subplot(5, 2, i+1)\n",
    "    if len(k_zero)!=0:\n",
    "        plt.scatter(k_zero[:,0],k_zero[:,1], s=0.5, c=\"red\")\n",
    "    if len(k_one)!=0:\n",
    "        plt.scatter(k_one[:,0],k_one[:,1], s=0.5, c=\"green\")      \n",
    "    if len(k_two)!=0:\n",
    "        plt.scatter(k_two[:,0],k_two[:,1], s=0.5, c=\"yellow\")\n",
    "    if len(k_zero)!=0:\n",
    "        plt.scatter(k_three[:,0],k_three[:,1], s=0.5, c=\"blue\")\n",
    "\n",
    "fig.savefig(\"clusters1b.png\")\n",
    "fig.show()"
   ]
  },
  {
   "cell_type": "markdown",
   "metadata": {},
   "source": [
    "**A1b):** In the run stored in the pdf file \"clusters1b.png\" in 1 out of 10 times, the clusters are appropriate. This is probably due to the random initialization since the performance of k-means is dependent on the initialization points. \n",
    "Since this data sample has one big blob while the others seem to be smaller, the chance is higher to choose a point which meant to belong to the big blob. This way the plot is often divided into different classes. \n"
   ]
  },
  {
   "cell_type": "markdown",
   "metadata": {},
   "source": [
    "#### c) k-means++ (15 pts)\n",
    "\n",
    "To improve the performance of the $k$-means clustering algorithm, a common approach is to not initialize cluster centers completely at random, but rather to make sure that the initial cluster centers are relatively far away from each other. A very popular initialization scheme is provided by the $k$-means++ algorithm, which works as follows:\n",
    "\n",
    "Let $X$ the set of data points, and $\\mathcal{D}(x)$ denote the shortest distance from a data point to the closest center we have already chosen. Then, the k-means++ initialization consists of the following steps.\n",
    "1. Take one center $c_1$, chosen uniformly at random from $X$.\n",
    "2. Take a new center $c_i$, choosing $x \\in X$ with probability $$p(x) = \\frac{D(x)^2}{\\sum_{x\\in X} D(x)^2}$$\n",
    "3. Repeat Step 2 until we have taken $k$ centers altogether.\n",
    "\n",
    "Implement this initialization scheme in a function ```init_k_means_pp```, and an extra helper function ```calc_probability``` which computes the probability distribution in step 2, using the signatures in the cells below. Use Euclidean distance to measure distance between any pair of points in the data.  "
   ]
  },
  {
   "cell_type": "code",
   "execution_count": 6,
   "metadata": {},
   "outputs": [],
   "source": [
    "# Helper function for calculating the probability in step 2\n",
    "# computes the distribution of probabilities of each individual point in the data to be chosen as initial cluster centroid\n",
    "\n",
    "def calc_probability(X: np.ndarray, curr_centroids: List[int]) -> np.ndarray:\n",
    "    \"\"\"\n",
    "    :param X: 2D numpy array, consisting of all the data points we want to cluster\n",
    "    :param curr_centroids: list of row indices which indicate the points that are already chosen as cluster centers\n",
    "    :return: 1D numpy array, containing the probabilities of each point in the data to be chosen as next cluster center\n",
    "    \"\"\"\n",
    "    \n",
    "    #compute p(x)  \n",
    "    d_array = []\n",
    "    for idx, x in enumerate(X):\n",
    "        temp = [np.linalg.norm(x - c) for c in curr_centroids]\n",
    "        D = min(temp)\n",
    "        d_array.append(D**2)\n",
    "\n",
    "    p = [d/sum(d_array) for d in d_array]\n",
    "        \n",
    "    return p\n",
    "\n",
    "# calc_probability(X_clusters, [12 ,  13])"
   ]
  },
  {
   "cell_type": "code",
   "execution_count": 7,
   "metadata": {},
   "outputs": [],
   "source": [
    "def init_k_means_pp(X: np.ndarray, k: int) -> List[int]:\n",
    "    \"\"\"\n",
    "    :param X: numerical 2D numpy array, where each row represents a data point\n",
    "    :param k: number of clusters \n",
    "    :\n",
    "    :return: list of k row indices which indicate the data points that the clusters are initialized with\n",
    "    \"\"\"\n",
    "    centers = []\n",
    "    for i in range(k):\n",
    "        if i == 0: \n",
    "            centers.append(X[np.random.randint(0,X.shape[0])].tolist())\n",
    "            continue\n",
    "        p = calc_probability(X,centers)\n",
    "        # append new center \n",
    "        centers.append(X[np.argmax(p)].tolist())\n",
    "    return centers\n",
    "# init_k_means_pp(X_clusters, 5)"
   ]
  },
  {
   "cell_type": "markdown",
   "metadata": {},
   "source": [
    "#### d) Improved Clustering (5 pts)\n",
    "\n",
    "Apply the initializations from c) and the implementation from a) to rerun the experiment from b). That is, run the $4$-means clustering algorithm ten times on the given data, using the initialization from ```k_means_pp```, and scatterplot each clustering using different colors for different clusters. Save the resulting plots into a file named \"clusters1d.png\". Do you observe a different behavior of the clusterings than in task b)? Write your answer into cell **1d)**!\n"
   ]
  },
  {
   "cell_type": "code",
   "execution_count": 8,
   "metadata": {},
   "outputs": [
    {
     "name": "stderr",
     "output_type": "stream",
     "text": [
      "<ipython-input-8-08aefab9eb81>:20: UserWarning: Matplotlib is currently using module://ipykernel.pylab.backend_inline, which is a non-GUI backend, so cannot show the figure.\n",
      "  fig.show()\n"
     ]
    },
    {
     "data": {
      "image/png": "[encoded data removed]",
      "text/plain": [
       "<Figure size 432x288 with 10 Axes>"
      ]
     },
     "metadata": {
      "needs_background": "light"
     },
     "output_type": "display_data"
    }
   ],
   "source": [
    "fig = plt.figure()\n",
    "for i in range(10):\n",
    "    labels, centroids = k_means(X_clusters, k=4, init_points=init_k_means_pp(X_clusters, 4))\n",
    "    k_zero = np.asarray([x for idx, x in enumerate(X_clusters) if labels[idx] == 0])\n",
    "    k_one = np.asarray([x for idx, x in enumerate(X_clusters) if labels[idx] == 1 ])\n",
    "    k_two = np.asarray([x for idx, x in enumerate(X_clusters) if labels[idx] == 2 ])\n",
    "    k_three = np.asarray([x for idx, x in enumerate(X_clusters) if labels[idx] == 3 ])\n",
    "\n",
    "    fig.add_subplot(5, 2, i+1)\n",
    "    if len(k_zero)!=0:\n",
    "        plt.scatter(k_zero[:,0],k_zero[:,1], s=0.5, c=\"red\")\n",
    "    if len(k_one)!=0:\n",
    "        plt.scatter(k_one[:,0],k_one[:,1], s=0.5, c=\"green\")      \n",
    "    if len(k_two)!=0:\n",
    "        plt.scatter(k_two[:,0],k_two[:,1], s=0.5, c=\"yellow\")\n",
    "    if len(k_zero)!=0:\n",
    "        plt.scatter(k_three[:,0],k_three[:,1], s=0.5, c=\"blue\")\n",
    "        #pdf.savefig()\n",
    "fig.savefig('clusters1d.png')       \n",
    "fig.show()"
   ]
  },
  {
   "cell_type": "markdown",
   "metadata": {},
   "source": [
    "**A1d):** In the analyzed run 8 out of 10 times was appropriate. In comparison to the k-means algorithm with random initialization, one can see that the improved initialization process led to a more stable and better quality approach."
   ]
  },
  {
   "cell_type": "markdown",
   "metadata": {},
   "source": [
    "### Task 2: Helping Santa (40 pts)\n",
    "\n",
    "Santa Claus has gotten old and cannot deliver the christmas presents by himself anymore. Luckily, he has his team of 20 elves that are happy to carry all the presents out for him.\n",
    "To distribute presents in an efficient way, he wants to partition the households to deliver presents to in an optimal way, by clustering of the locations that the presents are delivered to.\n",
    "A map with the coordinates of each household to deliver can be found in \"xmas.txt\", and it is loaded and plotted in the cell below."
   ]
  },
  {
   "cell_type": "code",
   "execution_count": 9,
   "metadata": {},
   "outputs": [
    {
     "data": {
      "image/png": "[encoded data removed]",
      "text/plain": [
       "<Figure size 432x288 with 1 Axes>"
      ]
     },
     "metadata": {
      "needs_background": "light"
     },
     "output_type": "display_data"
    }
   ],
   "source": [
    "X_mas = np.loadtxt(\"xmas.txt\")\n",
    "plt.scatter(X_mas[:,0],X_mas[:,1], s=0.2)\n",
    "plt.show()"
   ]
  },
  {
   "cell_type": "markdown",
   "metadata": {},
   "source": [
    "#### a) The Silhouette Coefficient (10 pts)\n",
    "\n",
    "Since Santa cannot judge the quality of a clustering by looking at a map, he needs to apply some quality measure that quantifies how good a clustering is.  \n",
    "\n",
    "One such measure, which both evaluates how compact clusters are among themselves, and how well different clusters are separated, is the **silhouette coefficient**.\n",
    "Assuming that all data points $x_1,\\dots ,x_n$ are partitioned into $k$ clusters $C_1, \\dots, C_k$, we can compute two coefficients for each data point $x_i$. On the one hand, assuming that $x_i \\in C_l$,\n",
    "$$\n",
    "a(x_i) := \\frac{\\sum_{x_j\\in C_l} d(x_i,x_j)}{|C_l| - 1}\n",
    "$$\n",
    "measures the compactness of the cluster $C_l$ to which $x_i$ belongs, and \n",
    "$$\n",
    "b(x_i) := \\min_{C_m\\not= C_l}\\left\\{ \\frac{\\sum_{x_j\\in C_m} d(x_i,x_j)}{|C_m|} \\right\\}\n",
    "$$\n",
    "captures the degree to which $x_i$ is separated from other clusters. Note that in these formulas, $d$ represents a distance function that can be chosen individually for the application at hand.\n",
    "From these two values, we can compute the silhouette coefficient of $x_i$ via\n",
    "$$\n",
    "s(x_i) = \\frac{b(x_i) - a(x_i)}{\\max\\{a(x_i),b(x_i)\\}}.\n",
    "$$\n",
    "Note that the value of this coefficient lies between -1 and 1, with 1 being the optimum, and negative values indicating a bad clustering, where on expectation $x_i$ is further away from the data points in its own cluster than from points in any other cluster.  \n",
    "To evaluate the quality of the **full clustering** of a dataset, one can then compute the **average silhouette coefficient of all points in a dataset**.  \n",
    "Note that this measure does not require a fixed $k$, unlike the objective function in the k-means clustering algorithm, and thus it can also be used to find an optimal $k$.\n",
    "\n",
    "Write a function ```silhouette_score``` that computes this silhouette score of a full clustering, using the _Euclidean distance_ as the distance function $d$. Use the signature which is specified in the cell below."
   ]
  },
  {
   "cell_type": "code",
   "execution_count": 10,
   "metadata": {},
   "outputs": [],
   "source": [
    "def silhouette_score(X: np.ndarray, labels: np.ndarray) -> float:\n",
    "    \"\"\"\n",
    "    :param X: numerical 2D numpy array, where each row represents a data point\n",
    "    :param labels: 1D numpy array containing the corresponding cluster labels in {1,...,k}\n",
    "    :\n",
    "    :return: resulting silhouette score as float\n",
    "    \"\"\"\n",
    "    # compute distance between points in the same class\n",
    "    in_class_dist = np.zeros(X.shape[0])\n",
    "    \n",
    "    X_copy = X\n",
    "    for idx, x in enumerate(X):\n",
    "        for idxx, y in enumerate(X):\n",
    "            if labels[idxx] == labels[idx]:\n",
    "                in_class_dist[idx] += np.linalg.norm(x-y)\n",
    "    # compute a for every point \n",
    "    a = [i/(np.count_nonzero(labels == labels[idx]) - 1) for idx, i in enumerate(in_class_dist)]\n",
    "    \n",
    "    # compute b for every point \n",
    "    b = np.zeros(X.shape[0])\n",
    "    \n",
    "    for idx, x in enumerate(X):\n",
    "        for idxy, y in enumerate(X):\n",
    "            if labels[idxy] != labels[idx]:\n",
    "                i = 0\n",
    "                temp = 0\n",
    "                for idxz, z in enumerate(X):\n",
    "                    if labels[idxy] == labels[idxz]:\n",
    "                        temp += np.linalg.norm(z-y)\n",
    "                        i += 1 \n",
    "                #reasisation of the min part of the b function\n",
    "                if b[idx] == 0:\n",
    "                    b[idx] = temp/i\n",
    "                elif b[idx] > temp/i:\n",
    "                    b[idx] = temp/i; \n",
    "    \n",
    "    # comput s for all points \n",
    "    s = [(b[idx] - a[idx]) / max(a[idx], b[idx])for idx, x in enumerate(X)]\n",
    "                        \n",
    "    return s"
   ]
  },
  {
   "cell_type": "markdown",
   "metadata": {},
   "source": [
    "#### b) Finding an Optimal Clustering (30 pt)\n",
    "\n",
    "On christmas eve, Santa wants to send an appropriate number of his elves out to deliver all the presents, and he wants to send at least 10 elves out, because the limited capacity of their sleighs does not allow for a smaller number. However, he is also fine with not sending all of his 20 elves out, since all the elves that are not delivering presents could prepare Santa's own traditional christmas party in the meantime.  \n",
    "Thus, he decides to simply send out the number of elves between 10 and 20 that yields the best clustering with respect to the silhouette score. \n",
    "\n",
    "Find an optimal clustering of the households on the christmas map consisting of between 10 and 20 clusters.\n",
    "Save the corresponding vector of optimal cluster labels into a variable ```xmas_cluster_labels```. Also provide all code that you used to find this optimum in the cell(s) below.  \n",
    "Note that you do not need to imlement any clustering method yourself, but may resort to the algorithms provided by ```sklearn.cluster```, as well as the implemention of the silhouette score provided by ```sklearn.metrics```.\n",
    "You will receive full marks if the clustering you found yields a silhouette score (using Euclidean distance) that is at least as good as our baseline which was determined using $k$-means clustering ."
   ]
  },
  {
   "cell_type": "code",
   "execution_count": 11,
   "metadata": {},
   "outputs": [],
   "source": [
    "xmas_cluster_labels = 15"
   ]
  },
  {
   "cell_type": "code",
   "execution_count": 12,
   "metadata": {},
   "outputs": [
    {
     "name": "stdout",
     "output_type": "stream",
     "text": [
      "xmas_cluster_labels =  15\n"
     ]
    }
   ],
   "source": [
    "s_bewertung = []\n",
    "s_impl_arr = []\n",
    "\n",
    "for k in range(10,21):\n",
    "    kmeans = KMeans(n_clusters=k, random_state=0).fit(X_mas)\n",
    "    s = sk.metrics.silhouette_score(X_mas, kmeans.labels_, metric='euclidean')\n",
    "    s_bewertung.append(s)\n",
    "xmas_cluster_labels = 10 + np.argmax(s_bewertung) \n",
    "print(\"xmas_cluster_labels = \", xmas_cluster_labels)"
   ]
  },
  {
   "cell_type": "code",
   "execution_count": 13,
   "metadata": {},
   "outputs": [],
   "source": [
    "## TEST\n",
    "#for k in range(10,21):\n",
    "#    print(\"k =\", k)\n",
    "#    kmeans = KMeans(n_clusters=k, random_state=0).fit(X_mas)\n",
    "#    s = silhouette_score(X_mas, kmeans.labels_)\n",
    "#    s_bewertung.append(s)\n",
    "#xmas_cluster_labels_ = 10 + np.argmax(s_bewertung)\n",
    "#print(\"xmas_cluster_labels_ = \", xmas_cluster_labels_)"
   ]
  },
  {
   "cell_type": "markdown",
   "metadata": {},
   "source": [
    "### Task 3: Assessing Algorithmic (Un)Fairness (55 pts)"
   ]
  },
  {
   "cell_type": "markdown",
   "metadata": {},
   "source": [
    "In this task we are working with the _German Credit_ dataset, which classifies people described by a set of attributes as good or bad credit risks. The given data is already an adaptation from the original data that can be found at the UCI ML library. A documentation regarding the categorical values can also be found here: https://archive.ics.uci.edu/ml/datasets/Statlog+(German+Credit+Data)  \n",
    "We adapt the target \"credit\" attribute such that a '1' indicates a good credit risk, and a '0' indicates a bad credit risk, and further preprocessed the data by dummy-coding the categorical variables.  \n",
    "In this dataset, age-based discrimination was found to exist, so we choose ```age``` as the _sensitive attribute_ in the data, with people of age 25 or younger forming the *protected group*, and people older than 25 years forming the *unprotected group*."
   ]
  },
  {
   "cell_type": "code",
   "execution_count": 14,
   "metadata": {},
   "outputs": [
    {
     "data": {
      "text/html": [
       "<div>\n",
       "<style scoped>\n",
       "    .dataframe tbody tr th:only-of-type {\n",
       "        vertical-align: middle;\n",
       "    }\n",
       "\n",
       "    .dataframe tbody tr th {\n",
       "        vertical-align: top;\n",
       "    }\n",
       "\n",
       "    .dataframe thead th {\n",
       "        text-align: right;\n",
       "    }\n",
       "</style>\n",
       "<table border=\"1\" class=\"dataframe\">\n",
       "  <thead>\n",
       "    <tr style=\"text-align: right;\">\n",
       "      <th></th>\n",
       "      <th>month</th>\n",
       "      <th>credit_amount</th>\n",
       "      <th>investment_as_income_percentage</th>\n",
       "      <th>residence_since</th>\n",
       "      <th>age</th>\n",
       "      <th>number_of_credits</th>\n",
       "      <th>people_liable_for</th>\n",
       "      <th>credit</th>\n",
       "      <th>status_A12</th>\n",
       "      <th>status_A13</th>\n",
       "      <th>...</th>\n",
       "      <th>property_A124</th>\n",
       "      <th>installment_plans_A142</th>\n",
       "      <th>installment_plans_A143</th>\n",
       "      <th>housing_A152</th>\n",
       "      <th>housing_A153</th>\n",
       "      <th>skill_level_A172</th>\n",
       "      <th>skill_level_A173</th>\n",
       "      <th>skill_level_A174</th>\n",
       "      <th>telephone_A192</th>\n",
       "      <th>foreign_worker_A202</th>\n",
       "    </tr>\n",
       "  </thead>\n",
       "  <tbody>\n",
       "    <tr>\n",
       "      <th>0</th>\n",
       "      <td>6</td>\n",
       "      <td>1169</td>\n",
       "      <td>4</td>\n",
       "      <td>4</td>\n",
       "      <td>67</td>\n",
       "      <td>2</td>\n",
       "      <td>1</td>\n",
       "      <td>1</td>\n",
       "      <td>0</td>\n",
       "      <td>0</td>\n",
       "      <td>...</td>\n",
       "      <td>0</td>\n",
       "      <td>0</td>\n",
       "      <td>1</td>\n",
       "      <td>1</td>\n",
       "      <td>0</td>\n",
       "      <td>0</td>\n",
       "      <td>1</td>\n",
       "      <td>0</td>\n",
       "      <td>1</td>\n",
       "      <td>0</td>\n",
       "    </tr>\n",
       "    <tr>\n",
       "      <th>1</th>\n",
       "      <td>48</td>\n",
       "      <td>5951</td>\n",
       "      <td>2</td>\n",
       "      <td>2</td>\n",
       "      <td>22</td>\n",
       "      <td>1</td>\n",
       "      <td>1</td>\n",
       "      <td>0</td>\n",
       "      <td>1</td>\n",
       "      <td>0</td>\n",
       "      <td>...</td>\n",
       "      <td>0</td>\n",
       "      <td>0</td>\n",
       "      <td>1</td>\n",
       "      <td>1</td>\n",
       "      <td>0</td>\n",
       "      <td>0</td>\n",
       "      <td>1</td>\n",
       "      <td>0</td>\n",
       "      <td>0</td>\n",
       "      <td>0</td>\n",
       "    </tr>\n",
       "    <tr>\n",
       "      <th>2</th>\n",
       "      <td>12</td>\n",
       "      <td>2096</td>\n",
       "      <td>2</td>\n",
       "      <td>3</td>\n",
       "      <td>49</td>\n",
       "      <td>1</td>\n",
       "      <td>2</td>\n",
       "      <td>1</td>\n",
       "      <td>0</td>\n",
       "      <td>0</td>\n",
       "      <td>...</td>\n",
       "      <td>0</td>\n",
       "      <td>0</td>\n",
       "      <td>1</td>\n",
       "      <td>1</td>\n",
       "      <td>0</td>\n",
       "      <td>1</td>\n",
       "      <td>0</td>\n",
       "      <td>0</td>\n",
       "      <td>0</td>\n",
       "      <td>0</td>\n",
       "    </tr>\n",
       "    <tr>\n",
       "      <th>3</th>\n",
       "      <td>42</td>\n",
       "      <td>7882</td>\n",
       "      <td>2</td>\n",
       "      <td>4</td>\n",
       "      <td>45</td>\n",
       "      <td>1</td>\n",
       "      <td>2</td>\n",
       "      <td>1</td>\n",
       "      <td>0</td>\n",
       "      <td>0</td>\n",
       "      <td>...</td>\n",
       "      <td>0</td>\n",
       "      <td>0</td>\n",
       "      <td>1</td>\n",
       "      <td>0</td>\n",
       "      <td>1</td>\n",
       "      <td>0</td>\n",
       "      <td>1</td>\n",
       "      <td>0</td>\n",
       "      <td>0</td>\n",
       "      <td>0</td>\n",
       "    </tr>\n",
       "    <tr>\n",
       "      <th>4</th>\n",
       "      <td>24</td>\n",
       "      <td>4870</td>\n",
       "      <td>3</td>\n",
       "      <td>4</td>\n",
       "      <td>53</td>\n",
       "      <td>2</td>\n",
       "      <td>2</td>\n",
       "      <td>0</td>\n",
       "      <td>0</td>\n",
       "      <td>0</td>\n",
       "      <td>...</td>\n",
       "      <td>1</td>\n",
       "      <td>0</td>\n",
       "      <td>1</td>\n",
       "      <td>0</td>\n",
       "      <td>1</td>\n",
       "      <td>0</td>\n",
       "      <td>1</td>\n",
       "      <td>0</td>\n",
       "      <td>0</td>\n",
       "      <td>0</td>\n",
       "    </tr>\n",
       "  </tbody>\n",
       "</table>\n",
       "<p>5 rows × 47 columns</p>\n",
       "</div>"
      ],
      "text/plain": [
       "   month  credit_amount  investment_as_income_percentage  residence_since  \\\n",
       "0      6           1169                                4                4   \n",
       "1     48           5951                                2                2   \n",
       "2     12           2096                                2                3   \n",
       "3     42           7882                                2                4   \n",
       "4     24           4870                                3                4   \n",
       "\n",
       "   age  number_of_credits  people_liable_for  credit  status_A12  status_A13  \\\n",
       "0   67                  2                  1       1           0           0   \n",
       "1   22                  1                  1       0           1           0   \n",
       "2   49                  1                  2       1           0           0   \n",
       "3   45                  1                  2       1           0           0   \n",
       "4   53                  2                  2       0           0           0   \n",
       "\n",
       "   ...  property_A124  installment_plans_A142  installment_plans_A143  \\\n",
       "0  ...              0                       0                       1   \n",
       "1  ...              0                       0                       1   \n",
       "2  ...              0                       0                       1   \n",
       "3  ...              0                       0                       1   \n",
       "4  ...              1                       0                       1   \n",
       "\n",
       "   housing_A152  housing_A153  skill_level_A172  skill_level_A173  \\\n",
       "0             1             0                 0                 1   \n",
       "1             1             0                 0                 1   \n",
       "2             1             0                 1                 0   \n",
       "3             0             1                 0                 1   \n",
       "4             0             1                 0                 1   \n",
       "\n",
       "   skill_level_A174  telephone_A192  foreign_worker_A202  \n",
       "0                 0               1                    0  \n",
       "1                 0               0                    0  \n",
       "2                 0               0                    0  \n",
       "3                 0               0                    0  \n",
       "4                 0               0                    0  \n",
       "\n",
       "[5 rows x 47 columns]"
      ]
     },
     "execution_count": 14,
     "metadata": {},
     "output_type": "execute_result"
    }
   ],
   "source": [
    "df3 = pd.read_csv (\"german_credit.csv\")\n",
    "df3.credit = df3.credit.replace(2,0)\n",
    "df3 = pd.get_dummies(df3, drop_first = True)\n",
    "df3.head()"
   ]
  },
  {
   "cell_type": "markdown",
   "metadata": {},
   "source": [
    "#### a) Analysing Age Disparity (5 pts)\n",
    "\n",
    "As indicated above, we want to split all individuals in the data in two age groups, namely people that are older than 25 years, and people that are not. How many people are in each group, and what is the ratio of good credit scores among each group? Save the absolute numbers of old and young people in the data into variables ```n_old``` and ```n_young```, and the relative amount of old and young people that have a good credit score into variables ```r_good_old``` and ```r_good_young```! Do you observe some disparities beween the groups? Write your answer into cell **A3a)**!"
   ]
  },
  {
   "cell_type": "code",
   "execution_count": 15,
   "metadata": {},
   "outputs": [
    {
     "name": "stdout",
     "output_type": "stream",
     "text": [
      "810\n",
      "190\n",
      "0.7283950617283951\n",
      "0.5789473684210527\n"
     ]
    }
   ],
   "source": [
    "# absolute amount of old and young\n",
    "n_old = sum(df3.age > 25) # unprotected group\n",
    "n_young = sum(df3.age <= 25) # protected group\n",
    "print(n_old)\n",
    "print(n_young)\n",
    "\n",
    "n_good_old = sum((df3.age > 25) & (df3.credit == 1))\n",
    "n_good_young = sum((df3.age <= 25) & (df3.credit == 1))\n",
    "\n",
    "# relative amount of old and young with good credit score\n",
    "r_good_old = n_good_old / n_old\n",
    "r_good_young = n_good_young / n_young\n",
    "print(r_good_old)\n",
    "print(r_good_young)\n",
    "\n",
    "# disparity?\n",
    "#print(r_good_young/r_good_old)\n",
    "\n",
    "#r_bad_old = (sum((df3.age > 25) & (df3.credit == 0))) / n_old\n",
    "#r_bad_young = (sum((df3.age <= 25) & (df3.credit == 0))) /n_young\n",
    "#print(r_bad_old)\n",
    "#print(1-r_good_old)\n"
   ]
  },
  {
   "cell_type": "markdown",
   "metadata": {},
   "source": [
    "**A3a):** \n",
    "We observe a greater percentage of old with good credit score (approximately, 0.728) than young with good credit score (approximately, 0.579). The ratio of the old with good credit score is approximately 0.79 times than the ratio of the young with good credit score."
   ]
  },
  {
   "cell_type": "markdown",
   "metadata": {},
   "source": [
    "#### b) Measuring Algorithmic Fairness (10 pts)\n",
    "\n",
    "In this task we want to measure algorithmic unfairness both in terms of the _relative chance_ (also commonly known as *disparate impact*) measure which has been introduced in lecture, as well as the groupwise accuracies. \n",
    "Implement functions that compute these measures, using the function signatures specified in the cell below. \n",
    "\n",
    "You may assume that both the class attribute as well as the sensitive attribute is binary, with '1' indicating the 'good class' and the unprotected group, respectively."
   ]
  },
  {
   "cell_type": "code",
   "execution_count": 16,
   "metadata": {},
   "outputs": [],
   "source": [
    "def relative_chance(y_pred: np.ndarray, s_arr: np.ndarray) -> float:\n",
    "    \"\"\"\n",
    "    :param y_pred: 1D numpy array of binary predicted classes\n",
    "    :param s_arr: binary 1D numpy array representing the sensitive attribute\n",
    "    :\n",
    "    :return: resulting relative chance score\n",
    "    \"\"\"\n",
    "\n",
    "    positive_attr = s_arr==1 # if sensitive attribute: unprotected, old elif class attribute: good\n",
    "    negative_attr = s_arr==0 # if sensitive attribute: protected, young elif class attribute: bad\n",
    "\n",
    "    # 1-pr(a)=pr(a^c)\n",
    "    return (np.sum(y_pred[negative_attr])/np.sum(negative_attr)) / (np.sum(y_pred[positive_attr]/np.sum(positive_attr)))\n",
    "\n",
    "\n",
    "def groupwise_accuracy(y: np.ndarray, y_pred: np.ndarray, s_arr: np.ndarray) -> Tuple[float, float]:\n",
    "    \"\"\"\n",
    "    :param y: 1D numpy array of binary true classes\n",
    "    :param y_pred: 1D numpy array of binary predicted classes\n",
    "    :param s_arr: binary 1D numpy array representing the sensitive attribute\n",
    "    :\n",
    "    :return: tuple of accuracy scores:\n",
    "    :       - First element is accuracy on the instances from the protected class, \n",
    "    :       - Second element is accuracy on the instances from the unprotected class,\n",
    "    \"\"\"\n",
    "    # TODO insert your code here\n",
    "\n",
    "    # accuracy = (true pos. + true neg.)/all\n",
    "    # ternary operator\n",
    "    unprotected = s_arr==1 # positive sensitive attribute i.e. old, unprotected group\n",
    "    protected = s_arr==0 # negative sensitive attribute i.e. young, protected group\n",
    "    true = y==y_pred\n",
    "    acc_protected = np.sum(true[protected])/np.sum(protected)\n",
    "    acc_unprotected = np.sum(true[unprotected])/np.sum(unprotected)\n",
    "\n",
    "    return acc_protected,acc_unprotected"
   ]
  },
  {
   "cell_type": "markdown",
   "metadata": {},
   "source": [
    "#### c) Predicting Credit Score (10 pts)\n",
    "\n",
    "Split the dataset in a way that the first 700 elements are training data, and the remaining 300 elements are test data. Train a logistic regression classifier ```logit3c``` on the training data, using all attributes other than the target ```class``` variable as predictor. Make sure to scale the data appropriately. Compute the accuracy, the tuple of groupwise accuracies, and the relative chance score on the test data, and save the resulting values into variables ```acc_3c```, ```gr_acc_3c``` and ```rc_3c```! How would you judge the performance of your classifier? Write your answer into cell __A3c)__!"
   ]
  },
  {
   "cell_type": "code",
   "execution_count": 17,
   "metadata": {
    "scrolled": true
   },
   "outputs": [],
   "source": [
    "from sklearn import preprocessing\n",
    "from sklearn.model_selection import train_test_split\n",
    "from sklearn.metrics import accuracy_score\n",
    "\n",
    "y = df3.credit.to_numpy()\n",
    "# do not scale before test train split (avoid data leak)\n",
    "X = preprocessing.scale(df3.drop(\"credit\", axis=1) )\n",
    "\n",
    "X_train = X[:700]\n",
    "y_train = y[:700]\n",
    "X_test = X[700:]\n",
    "y_test = y[700:]\n",
    "logit3c = LogisticRegression(max_iter = 10000).fit(X_train,y_train)\n",
    "y_pred = logit3c.predict(X_test)"
   ]
  },
  {
   "cell_type": "code",
   "execution_count": 18,
   "metadata": {},
   "outputs": [
    {
     "name": "stdout",
     "output_type": "stream",
     "text": [
      "0.78\n",
      "(0.6724137931034483, 0.8057851239669421)\n",
      "0.7323917828319882\n"
     ]
    }
   ],
   "source": [
    "s_arr = (df3[700:].age>25).to_numpy().astype(int)\n",
    "acc_3c = np.sum(y[700:]==y_pred)/len(y_pred)\n",
    "#acc_3c_test = accuracy_score(df3[700:].credit, y_pred)\n",
    "gr_acc_3c = groupwise_accuracy(y[700:],y_pred,s_arr)\n",
    "rc_3c = relative_chance(y_pred, s_arr)\n",
    "\n",
    "print(acc_3c)\n",
    "#print(acc_3c_test)\n",
    "print(gr_acc_3c)\n",
    "print(rc_3c)\n"
   ]
  },
  {
   "cell_type": "markdown",
   "metadata": {},
   "source": [
    "**A3c):** We achieve an accuracy score of 0.78 from the classifier. However, for groupwise accuracy score we get approximately (0.6724, 0.8057). The predictive accuracy of the classifier is unimpressive and also can be misleading. We have groups of different sizes, namely, size of unprotected group (n_old = 810) > size of protected group (n_young = 190).\n",
    "The model gives a biased result by predicting people in the larger group. Thus, we should always check with the accuracy groupwise. \n",
    "Our relative chance score from the classifer yields 0.732, which - according to the four-fifths rule - is below acceptable difference of 80 percent. Also this is lower compared to initial disparity, or relative chance score from task 3a), of approximately 0.794. Therefore, we can infer that the classifier was not successful in improving fairness. "
   ]
  },
  {
   "cell_type": "markdown",
   "metadata": {},
   "source": [
    "#### d) Omitting the Sensitive Attribute (10 pts)\n",
    "\n",
    "Train a logistic regression classifier ```logit3d``` on the scaled training data where the age attribute has been erased, and recompute the accuracy, the tuple of groupwise accuracies, and the relative chance score on the test data. Save the resulting values into variables ```acc_3d```, ```gr_acc_3d``` and ```rc_3d```! Do the values change significantly? Write your answer into cell __A3d)__!"
   ]
  },
  {
   "cell_type": "code",
   "execution_count": 19,
   "metadata": {
    "scrolled": true
   },
   "outputs": [],
   "source": [
    "X_new = preprocessing.scale(df3.drop([\"credit\" , \"age\"], axis=1))\n",
    "X_new_train = X_new[:700]\n",
    "X_new_test = X_new[700:]\n",
    "logit3d = LogisticRegression(max_iter = 10000).fit(X_new_train,y_train)\n",
    "y_pred = logit3d.predict(X_new_test)"
   ]
  },
  {
   "cell_type": "code",
   "execution_count": 20,
   "metadata": {
    "scrolled": false
   },
   "outputs": [
    {
     "name": "stdout",
     "output_type": "stream",
     "text": [
      "0.7866666666666666\n",
      "(0.6724137931034483, 0.8140495867768595)\n",
      "0.7767791636096845\n"
     ]
    }
   ],
   "source": [
    "acc_3d = np.sum(y[700:]==y_pred)/len(y_pred)\n",
    "gr_acc_3d = groupwise_accuracy(y[700:],y_pred,s_arr)\n",
    "rc_3d = relative_chance(y_pred, s_arr)\n",
    "\n",
    "print(acc_3d)\n",
    "print(gr_acc_3d)\n",
    "print(rc_3d)"
   ]
  },
  {
   "cell_type": "markdown",
   "metadata": {},
   "source": [
    "**A3d):** The values have not changed significantly even after removing the sensitive attribute, \"age\". This could be due to the fact that other attributes in the data that are correlated with the sensitive attribute and indirectly indicate data in sensitive attribute, such as \"residence_since\"."
   ]
  },
  {
   "cell_type": "markdown",
   "metadata": {},
   "source": [
    "#### e) Massaging the Training Data (15 pts)\n",
    "\n",
    "Recall the method of massaging training data which has been introduced in lecture. In this method, the binary labels on the trainng data are flipped so that afterwards, the fraction of positively labeled instances among the unprotected group on the one hand, and protected group on the other hand, is nearly equal.\n",
    "\n",
    "The exact procedure to carry this out is as follows:\n",
    "1. Train a Classifier on the full training data that estimates the probability that an individual instance is classed as positive.\n",
    "2. We select the set $M_0$ of instances in the protected group whose labels are negative, and the set $M_1$ of instances in the unprotected group whose labels are positive.\n",
    "3. We rank the instances in $M_0$ by their confidence scores in DESCENDING order, and the instances in $M_1$ by their confidence scores in ASCENDING order.\n",
    "4. For a given number $m$, we flip the labels of the top $m$ instances of these rankings.\n",
    "\n",
    "Usually, one wants to massage the training data in a way that the ratio of positive labels per group is roughly identical.  Letting  $\\epsilon$ denote the difference of the positive rates between the groups, (i.e.,  ```r_good_old - r_good_young```), and $N_0,N_1$ denote the number of respective instances in the protected and in the unprotected group  (i.e.,  ```n_young``` and ```n_old```), this (approximate) equality would be achieved when flipping \n",
    "$m^* = \\epsilon \\cdot \\frac{N_0 \\cdot N_1}{N_0 + N_1}$\n",
    "labels.\n",
    "\n",
    "Write a function ```create_massaged_labels``` which implements this procedure, using the function signature specified in the cell below. Apply your function on the _training_ data, flipping $m^* = \\epsilon \\cdot \\frac{N_0 \\cdot N_1}{N_0 + N_1}$ labels. Save the resulting massaged training labels into a variable ```y_msg```!"
   ]
  },
  {
   "cell_type": "code",
   "execution_count": 21,
   "metadata": {},
   "outputs": [],
   "source": [
    "def create_massaged_labels(X: np.ndarray, s_arr: np.ndarray, y: np.ndarray, m: int, clf=LogisticRegression()) -> np.ndarray:\n",
    "    \"\"\"\n",
    "    :param X: 2D numpy array of training features\n",
    "    :param s_arr: binary 1D numpy array representing the sensitive attribute\n",
    "    :param y:  binary 1D numpy array of true classes\n",
    "    :param m: number of labels to flip\n",
    "    :param clf: sklearn classifier that should be used to produce the confidence scores. \n",
    "    :           You may assume that it contains a fit() and predict_proba() function. \n",
    "    :           Defaults to logistic regression classifier with standard parameters\n",
    "    :\n",
    "    :return: 1D numpy array of massaged training labels, needs to have the same length as y\n",
    "    \"\"\"\n",
    "    X = preprocessing.scale(df3.drop([\"credit\", \"age\"], axis=1) )\n",
    "    \n",
    "    logit3c = clf(max_iter = 10000).fit(X,y)\n",
    "    y_score = clf.predict_proba(X)[:,1] # probability that an individual instance is classed as positive.\n",
    "    df3.insert(0,\"y_score\", y_score, True)\n",
    "    \n",
    "    m_0 = df3[(s_arr <= 25) & (df3.credit == 0)].sort_values('y_score', ascending = False)\n",
    "    m_1 = df3[(s_arr > 25) & (df3.credit == 1)].sort_values('y_score', ascending = True)\n",
    "    \n",
    "    \n",
    "    for i, row in m_0.iloc[:m].iterrows():\n",
    "        row['credit'] == 1 - row.credit\n",
    "        \n",
    "    for i, row in m_1.iloc[:m].iterrows():\n",
    "        row['credit'] == 1 - row.credit\n",
    "        \n",
    "    return \n"
   ]
  },
  {
   "cell_type": "code",
   "execution_count": 22,
   "metadata": {},
   "outputs": [],
   "source": [
    "y_msg = ..."
   ]
  },
  {
   "cell_type": "markdown",
   "metadata": {},
   "source": [
    "#### f) Predicting on Massaged Data (5pts)\n",
    "\n",
    "Train a logistic regression classifier ```logit3f``` on the scaled training data using the massaged labels ```y_msg```, and apply your model on the test data. Once again, recompute the accuracy, the tuple of groupwise accuracies, and the relative chance score on the test data, and save the resulting values into variables ```acc_3f```, ```gr_acc_3f``` and ```rc_3f```. How have the resulting metrics changed compared to the previous subtasks? Write your answer into cell __A3f)__!\n",
    "\n"
   ]
  },
  {
   "cell_type": "code",
   "execution_count": 23,
   "metadata": {},
   "outputs": [],
   "source": [
    "logit3f = ..."
   ]
  },
  {
   "cell_type": "code",
   "execution_count": 24,
   "metadata": {},
   "outputs": [],
   "source": [
    "acc_3f = ...\n",
    "gr_acc_3f = ...\n",
    "rc_3f = ..."
   ]
  },
  {
   "cell_type": "markdown",
   "metadata": {},
   "source": [
    "**A3f):** _Write your answer here!_"
   ]
  },
  {
   "cell_type": "markdown",
   "metadata": {},
   "source": [
    "### Task 4: Fair Classification with the Two Naive Bayes Algorithm (40 pts)\n",
    "\n",
    "In this final task we are going to work on the _Ricci_ dataset, which describes the outcome of an exam that determined eligibility for promotion for firefighters from a US city. In this test, 18 firefighters received high marks. However, the city administration invalidated the exam because an insufficient number of racial minorities would be promoted if the exam was used. This resulted in a \"reverse discrimination\" lawsuit against the city by these firefighters. Lower courts supported this decision, but the Supreme Court forced the city to revalidate the exams.\n",
    "\n",
    "For the purposes of studying fair machine learning, in this task we want to predict who gets promoted while achieving fairness with respect to the sensitive attribute ```Race```. The unprotected class, i.e. the white population, have attribute value 1, and all non-whites have attribute value 0."
   ]
  },
  {
   "cell_type": "code",
   "execution_count": 25,
   "metadata": {},
   "outputs": [
    {
     "data": {
      "text/html": [
       "<div>\n",
       "<style scoped>\n",
       "    .dataframe tbody tr th:only-of-type {\n",
       "        vertical-align: middle;\n",
       "    }\n",
       "\n",
       "    .dataframe tbody tr th {\n",
       "        vertical-align: top;\n",
       "    }\n",
       "\n",
       "    .dataframe thead th {\n",
       "        text-align: right;\n",
       "    }\n",
       "</style>\n",
       "<table border=\"1\" class=\"dataframe\">\n",
       "  <thead>\n",
       "    <tr style=\"text-align: right;\">\n",
       "      <th></th>\n",
       "      <th>Oral</th>\n",
       "      <th>Written</th>\n",
       "      <th>Race</th>\n",
       "      <th>Combine</th>\n",
       "      <th>Class</th>\n",
       "      <th>Position_Captain</th>\n",
       "      <th>Position_Lieutenant</th>\n",
       "    </tr>\n",
       "  </thead>\n",
       "  <tbody>\n",
       "    <tr>\n",
       "      <th>0</th>\n",
       "      <td>89.52</td>\n",
       "      <td>95</td>\n",
       "      <td>1</td>\n",
       "      <td>92.808</td>\n",
       "      <td>1</td>\n",
       "      <td>1</td>\n",
       "      <td>0</td>\n",
       "    </tr>\n",
       "    <tr>\n",
       "      <th>1</th>\n",
       "      <td>80.00</td>\n",
       "      <td>95</td>\n",
       "      <td>1</td>\n",
       "      <td>89.000</td>\n",
       "      <td>1</td>\n",
       "      <td>1</td>\n",
       "      <td>0</td>\n",
       "    </tr>\n",
       "    <tr>\n",
       "      <th>2</th>\n",
       "      <td>82.38</td>\n",
       "      <td>87</td>\n",
       "      <td>1</td>\n",
       "      <td>85.152</td>\n",
       "      <td>1</td>\n",
       "      <td>1</td>\n",
       "      <td>0</td>\n",
       "    </tr>\n",
       "    <tr>\n",
       "      <th>3</th>\n",
       "      <td>88.57</td>\n",
       "      <td>76</td>\n",
       "      <td>1</td>\n",
       "      <td>81.028</td>\n",
       "      <td>1</td>\n",
       "      <td>1</td>\n",
       "      <td>0</td>\n",
       "    </tr>\n",
       "    <tr>\n",
       "      <th>4</th>\n",
       "      <td>76.19</td>\n",
       "      <td>84</td>\n",
       "      <td>1</td>\n",
       "      <td>80.876</td>\n",
       "      <td>1</td>\n",
       "      <td>1</td>\n",
       "      <td>0</td>\n",
       "    </tr>\n",
       "  </tbody>\n",
       "</table>\n",
       "</div>"
      ],
      "text/plain": [
       "    Oral  Written  Race  Combine  Class  Position_Captain  Position_Lieutenant\n",
       "0  89.52       95     1   92.808      1                 1                    0\n",
       "1  80.00       95     1   89.000      1                 1                    0\n",
       "2  82.38       87     1   85.152      1                 1                    0\n",
       "3  88.57       76     1   81.028      1                 1                    0\n",
       "4  76.19       84     1   80.876      1                 1                    0"
      ]
     },
     "execution_count": 25,
     "metadata": {},
     "output_type": "execute_result"
    }
   ],
   "source": [
    "df4 = pd.read_csv(\"ricci.csv\")\n",
    "df4.head()"
   ]
  },
  {
   "cell_type": "markdown",
   "metadata": {},
   "source": [
    "To measure algorithmic fairness in this task, we will be using the **Calders-Verwer (CV) score**, which, similar to the _relative chance_ score, essentially compares the positive positive prediction rates per group, only that this measure computes a difference between these rates.  \n",
    "It returns values between 0 and 2, with 1 indicating a perfectly balanced prediction, and values lower than 1 indicating a bias against the protected/unprivileged group. The measure is implemented in the cell below."
   ]
  },
  {
   "cell_type": "code",
   "execution_count": 26,
   "metadata": {},
   "outputs": [],
   "source": [
    "def cv_score(y_pred, s_arr):\n",
    "    \"\"\"\n",
    "    :param y_pred: 1D numpy array of binary predicted classes\n",
    "    :param s_arr: binary 1D numpy array representing the sensitive attribute\n",
    "    :\n",
    "    :return: resulting cv score\n",
    "    \"\"\"\n",
    "    pos_mask = s_arr==1\n",
    "    neg_mask = s_arr==0\n",
    "\n",
    "    return 1.0 - np.sum(y_pred[pos_mask])/np.sum(pos_mask) + np.sum(y_pred[neg_mask])/np.sum(neg_mask)"
   ]
  },
  {
   "cell_type": "markdown",
   "metadata": {},
   "source": [
    "#### a) Biased Classification (5 pts)\n",
    "\n",
    "Train a Gaussian Naive Bayes classifier on the full dataset which learns to predict the ```Class``` attribute using all other columns in the data. Apply your model on the training data, and compute both the accuracy as well as the CV score of the resulting predictions with respect to the sensitive attribute ```Race```. Save the resulting accuracy in a variable called ```acc_4a```, and the CV score into a variable ```cv_4a```. Give a brief comment regarding the resulting scores in cell __A4a)__!"
   ]
  },
  {
   "cell_type": "code",
   "execution_count": 27,
   "metadata": {},
   "outputs": [
    {
     "name": "stdout",
     "output_type": "stream",
     "text": [
      "0.9152542372881356\n",
      "0.5341176470588235\n"
     ]
    }
   ],
   "source": [
    "from sklearn.naive_bayes import GaussianNB\n",
    "from sklearn.metrics import accuracy_score\n",
    "\n",
    "X = df4.drop(labels=['Class'], axis=1)\n",
    "y = df4['Class']\n",
    "\n",
    "gaussianNB = GaussianNB()\n",
    "gaussianNB_model = gaussianNB.fit(X, y)\n",
    "y_pred = gaussianNB_model.predict(X)\n",
    "\n",
    "acc_4a = accuracy_score(df4['Class'], y_pred)\n",
    "print(acc_4a)\n",
    "\n",
    "cv_4a = cv_score(y_pred, df4['Race'])\n",
    "print(cv_4a)"
   ]
  },
  {
   "cell_type": "markdown",
   "metadata": {},
   "source": [
    "**A4a):** There is a significant discrepancy between the accuracy score and the cv score. The low cv score may indicate unfairness."
   ]
  },
  {
   "cell_type": "markdown",
   "metadata": {},
   "source": [
    "#### b) The Two Naive Bayes Algorithm by Calders and Verwer (30 pts)\n",
    "\n",
    "In lecture we have introduced the Two Naive Bayes algorithm by Calders and Verwer. Its main idea is to train two different Naive Bayes models corresponding to both values of a binary sensitive attribute $S$, and to then adapt the prior probabilities $P(Y|S)$ of each of these models until the predictions on the training data become fair.\n",
    "More precisely, in training, we first fit two different models, namely one for the privileged class $S=1$ and one for the non-privileged class $S=0$, to obtain the conditional probabilities $P(X_i|Y,S=s)$, $s=0,1$, and the priors $P(Y|S=s)$, $s=0,1$ from the training data. After these initial fits, we evaluate the model on the training data, and if we do not observe fair predictions, i.e. predictions for which the CV score is at least $1-\\epsilon$, we adapt the priors $P(Y|S=s)$ until this is the case. This adaptation is carried out as follows:\n",
    "\n",
    "We initialize $N(Y=j, S=s)$ as the number of training samples with class $j$ and sensitive attribute value $s$, and $N(Y=1)$ the number of samples with class $1$ in the data. Further, let $\\Delta$ denote an adaptation rate, which is given as input.  \n",
    "Then we conduct the following iteration:\n",
    "\n",
    "1. cv_score <- CV score of the predicted classes by the current model.\n",
    "2. while cv_score $< 1 - \\epsilon$:\n",
    "    * $n_{pos}$ <- number of predicted positive samples from the current model.\n",
    "    * if $n_{pos} < N(Y=1)$:\n",
    "           N(Y=1, S=0) <- N(Y=1, S=0) + ΔN(Y=0, S=1)\n",
    "           N(Y=0, S=0) <- N(Y=0, S=0) - ΔN(Y=0, S=1) \n",
    "      else:\n",
    "           N(Y=0, S=1) <- N(Y=0, S=1) + ΔN(Y=1, S=0)\n",
    "           N(Y=1, S=1) <- N(Y=1, S=1) - ΔN(Y=1, S=0)\n",
    "    * if any of the N(Y, S) is negative then cancel the previous update of $N(Y; S)$ and abort\n",
    "    * Recalculate priors $P(Y|S=i)$  and cv_score based on updated $N(Y, S)$\n",
    "    \n",
    "Note that the priors $P(Y|S=s)$ are calculated via\n",
    "$$P(Y|S=s) = \\frac{N(Y, S=s)}{N(S=s)},$$\n",
    "where $N(S=s)$ denotes the number of samples in the data with sensitive attribute value $s$."
   ]
  },
  {
   "cell_type": "markdown",
   "metadata": {},
   "source": [
    "**Task description:** Implement a class that runs the Two Naive Bayes algorithm, using the signatures and specifications in the cell below! Apply Gaussian Naive Bayes models to fit your data. In particular, you do not need to differentiate between continuous and discrete data as in exercise 8, and you can use the ```GaussianNB``` class from ```sklearn.naive_bayes``` to fit the two individual models. Note that this class also has an attribute that stores the prior probabilities and can be overwritten easily.\n",
    "Further, you may assume that all input data is valid, i.e. you do not need to check whether for instance the feature matrix ```X``` has as many rows as the class vector ```y``` or the sensitive attribute vector ```s_arr```."
   ]
  },
  {
   "cell_type": "code",
   "execution_count": 28,
   "metadata": {},
   "outputs": [],
   "source": [
    "import numpy as np\n",
    "from sklearn.naive_bayes import GaussianNB\n",
    "\n",
    "class TwoNaiveBayes:\n",
    "    \"\"\"\n",
    "    :class implementing the Two Naive Bayes Algorithm by Calders and Verwer\n",
    "    :\n",
    "    :class attributes:\n",
    "    :attr nb0: Gaussian Naive Bayes classifier used to make predictions on minority class\n",
    "    :attr nb1: Gaussian Naive Bayes classifier used to make predictions on privileged class\n",
    "    :attr delta: adaptation rate used in the iteration in step 2\n",
    "    :attr eps: fairness tolerance, we consider a classification fair if the cv score is at least 1 - eps\n",
    "    :\n",
    "    :class methods:\n",
    "    :function __init__: constructor of the class which initializes the model\n",
    "    :function fit: function that fits model parameters on training data\n",
    "    :function predict: function that utilizes trained model parameters to make predictions on unseen target data\n",
    "    \"\"\"\n",
    "    \n",
    "    def __init__(self, delta: Optional[float] = 0.01, eps: Optional[float] = 0.05):\n",
    "        \"\"\"\n",
    "        : Constructor of the class, we only initialize internal parameters here.\n",
    "        : Do not change anything about the constructor!\n",
    "        \"\"\"\n",
    "        self.nb0 = GaussianNB()\n",
    "        self.nb1 = GaussianNB()\n",
    "        self.delta = delta\n",
    "        self.eps = eps\n",
    "\n",
    "    def fit(self, X: np.ndarray, s_arr: np.ndarray, y: np.ndarray):\n",
    "        \"\"\"\n",
    "        :param X: 2D numerical numpy array reprenting the feature matrix without the sensitive attribute\n",
    "        :param s_arr: binary 1D numpy array representing the sensitive attribute\n",
    "        :param  y: binary 1D numpy array representing the class labels to train on\n",
    "        :\n",
    "        :return nothing, this function only fits internal parameters\n",
    "        \"\"\"\n",
    "        \n",
    "        # From funcrion 'cv_score'\n",
    "        pos_mask = s_arr==1\n",
    "        neg_mask = s_arr==0\n",
    "        \n",
    "        self.nb0.fit(X[neg_mask], y[neg_mask])\n",
    "        self.nb1.fit(X[pos_mask], y[pos_mask])\n",
    "    \n",
    "    def predict(self, X: np.ndarray, s_arr: np.ndarray) -> np.ndarray:\n",
    "        \"\"\"\n",
    "        :param X: 2D numerical numpy array reprenting the feature matrix without the sensitive attribute\n",
    "        :param s_arr: binary 1D numpy array representing the sensitive attribute to consider when predicting\n",
    "        :\n",
    "        :return: 1D numpy vector of (fair) class labels\n",
    "        \"\"\"\n",
    "        \n",
    "        # From funcrion 'cv_score'\n",
    "        pos_mask = s_arr==1\n",
    "        neg_mask = s_arr==0\n",
    "        \n",
    "        pred_0 = self.nb0.predict(X[neg_mask])\n",
    "        pred_1 = self.nb1.predict(X[pos_mask])\n",
    "        \n",
    "        pred = np.ndarray(shape=(s_arr.size,), dtype='int')\n",
    "        \n",
    "        pred[neg_mask] = pred_0\n",
    "        pred[pos_mask] = pred_1\n",
    "        \n",
    "        cv = cv_score(pred, s_arr)\n",
    "        \n",
    "        # Skip the initilization for the while loop and the while loop, if it would not be used.\n",
    "        if(cv >= (1 - self.eps)):\n",
    "            return pred\n",
    "        \n",
    "        unique, frequency = np.unique(y, return_counts=True)\n",
    "        y_frequency = dict(zip(unique, frequency))\n",
    "        # Dict access to ensure correct valute for positive frequency\n",
    "        n_y_1 = y_frequency[1]\n",
    "        \n",
    "        unique, frequency = np.unique(s_arr, return_counts = True)\n",
    "        s_frequency = dict(zip(unique, frequency))\n",
    "        # Dict access to ensure correct valute for positive and negative frequency\n",
    "        n_s_0 = s_frequency[0]\n",
    "        n_s_1 = s_frequency[1]\n",
    "        \n",
    "        unique, frequency = np.unique(np.column_stack((y, s_arr)), axis=0, return_counts = True)\n",
    "        n_0_0 = frequency[unique.tolist().index([0, 0])]\n",
    "        n_0_1 = frequency[unique.tolist().index([0, 1])]\n",
    "        n_1_0 = frequency[unique.tolist().index([1, 0])]\n",
    "        n_1_1 = frequency[unique.tolist().index([1, 1])]        \n",
    "        \n",
    "        while cv < (1 - self.eps):\n",
    "            # Backup of values\n",
    "            b_0_0 = n_0_0\n",
    "            b_0_1 = n_0_1\n",
    "            b_1_0 = n_1_0\n",
    "            b_1_1 = n_1_1\n",
    "            \n",
    "            n_pos = len(np.where(pred == 1)[0])\n",
    "            \n",
    "            if(n_pos < n_y_1):\n",
    "                n_1_0 = n_1_0 + self.delta * n_0_1\n",
    "                n_0_0 = n_0_0 - self.delta * n_0_1\n",
    "            else:\n",
    "                n_0_1 = n_0_1 + self.delta * n_1_0\n",
    "                n_1_1 = n_1_1 - self.delta * n_1_0\n",
    "                \n",
    "            if(n_0_0 < 0 or n_0_1 < 0 or n_1_0 < 0 or n_1_1 < 0):\n",
    "                # Load old values\n",
    "                # Only present because the algrotithm demands it.\n",
    "                # Could be removed with no effect.\n",
    "                n_0_0 = b_0_0\n",
    "                n_0_1 = b_0_1\n",
    "                n_1_0 = b_1_0\n",
    "                n_1_1 = b_1_1\n",
    "                # Negativity, break out of loop.\n",
    "                break\n",
    "                \n",
    "            # Recalculate priors  \n",
    "            p_0_0 = n_0_0 / n_s_0  \n",
    "            p_0_1 = n_0_1 / n_s_1\n",
    "            p_1_0 = n_1_0 / n_s_0\n",
    "            p_1_1 = n_1_1 / n_s_1\n",
    "\n",
    "            self.nb0.class_prior_ = [p_0_0, p_1_0]\n",
    "            self.nb1.class_prior_ = [p_0_1, p_1_1]\n",
    "\n",
    "            pred_0 = self.nb0.predict(X[neg_mask])\n",
    "            pred_1 = self.nb1.predict(X[pos_mask])\n",
    "\n",
    "            pred[neg_mask] = pred_0\n",
    "            pred[pos_mask] = pred_1\n",
    "\n",
    "            # Update cv\n",
    "            cv = cv_score(pred, s_arr)\n",
    "            \n",
    "        \n",
    "        return pred"
   ]
  },
  {
   "cell_type": "markdown",
   "metadata": {},
   "source": [
    "####  c) Fair Prediction (5 pts)\n",
    "Apply your implementation from b) on the Ricci dataset. In particular, fit your model on the full dataset, and compute the predictions on this whole dataset. Compute the CV score and the accuracy resulting from these predictions. Save the resulting accuracy in a variable called ```acc_4c```, and the CV score into a variable ```cv_4c```.\n",
    "Compare these outcomes to the results from task a). What do you observe? Write your answer into cell **A4c)**!"
   ]
  },
  {
   "cell_type": "code",
   "execution_count": 29,
   "metadata": {},
   "outputs": [
    {
     "name": "stdout",
     "output_type": "stream",
     "text": [
      "0.8728813559322034\n",
      "0.9547058823529411\n"
     ]
    }
   ],
   "source": [
    "X = df4.drop(labels=['Class', 'Race'], axis=1)\n",
    "y = df4['Class']\n",
    "s_arr = df4['Race'].to_numpy()\n",
    "\n",
    "twoNaiveBayes = TwoNaiveBayes()\n",
    "twoNaiveBayes.fit(X, s_arr, y)\n",
    "y_pred = twoNaiveBayes.predict(X, s_arr)\n",
    "\n",
    "acc_4c = accuracy_score(df4['Class'], y_pred)\n",
    "print(acc_4c)\n",
    "\n",
    "cv_4c = cv_score(y_pred, s_arr)\n",
    "print(cv_4c)"
   ]
  },
  {
   "cell_type": "markdown",
   "metadata": {},
   "source": [
    "**A4c):** Compared to the other results in 4a, we observe a lower accuracy score and a higher cv score. This supports that there is an inverse relationship between fairness and utility."
   ]
  },
  {
   "cell_type": "code",
   "execution_count": null,
   "metadata": {},
   "outputs": [],
   "source": []
  },
  {
   "cell_type": "code",
   "execution_count": null,
   "metadata": {},
   "outputs": [],
   "source": []
  },
  {
   "cell_type": "code",
   "execution_count": null,
   "metadata": {},
   "outputs": [],
   "source": []
  },
  {
   "cell_type": "code",
   "execution_count": null,
   "metadata": {},
   "outputs": [],
   "source": []
  }
 ],
 "metadata": {
  "kernelspec": {
   "display_name": "Python 3",
   "language": "python",
   "name": "python3"
  },
  "language_info": {
   "codemirror_mode": {
    "name": "ipython",
    "version": 3
   },
   "file_extension": ".py",
   "mimetype": "text/x-python",
   "name": "python",
   "nbconvert_exporter": "python",
   "pygments_lexer": "ipython3",
   "version": "3.8.5"
  }
 },
 "nbformat": 4,
 "nbformat_minor": 2
}
