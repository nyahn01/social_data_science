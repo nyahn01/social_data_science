{
 "cells": [
  {
   "cell_type": "markdown",
   "metadata": {},
   "source": [
    "Social Data Science WS20/21\n",
    "\n",
    "# Home Assignment 1\n",
    "\n"
   ]
  },
  {
   "cell_type": "markdown",
   "metadata": {},
   "source": [
    "### General Instructions\n",
    "\n",
    "Submit your solution via Moodle until 23.59pm on Tuesday, November 24th. Late submissions are accepted for 12 hours following the deadline, with 1/4 of the total possible points deducted from the score.\n",
    "\n",
    "Submit your solutions in teams of up 3-4 members.\n",
    "Please denote all members of the team with their student ID and full name in the notebook. Please submit only one notebook per team. Only submit a notebook, do not submit the dataset(s) you used or image files that you have created - these have to be created from your notebook. Also, do NOT compress/zip your submission!\n",
    "\n",
    "Cite ALL your sources for coding this home assignment. In case of plagiarism (copying solutions from other teams or from the internet) ALL team members will be expelled from the course without warning.\n",
    "\n",
    "\n",
    "### Evaluation and Grading\n",
    "\n",
    "Evaluation of your submission is done semi-automatically. Think of it as this notebook being \n",
    "executed once. Afterwards, some test functions are appended to this file and executed respectively.\n",
    "\n",
    "Therefore:\n",
    "* Submit valid _Python3_ code only\n",
    "* Make sure to restrict yourself to using packages that are automatically installed along with anaconda, as other imports might not work on our machines. For the visualization tasks, you may additionally use ```seaborn```, ```plotly```, ```altair```, and ```bokeh```. An overview of packages that can be used can be found in the file 'environment.yaml'.\n",
    "* Ensure your definitions (functions, classes, methods, variables) follow the specification if\n",
    "  given. The concrete signature and header of a function is usually specified in the task description and via code skeletons.\n",
    "* Again, make sure that all your function as well as variable names match with what we have specified! The automated grading will only match these exact names, and everything that is not matching will not be graded.\n",
    "* This also holds for the plots you have to save and create - always use the name that is specified! \n",
    "* Whenever there is a written task, e.g. task 1d), enter your answer in the specified markdown cell. Do NOT remove the label (e.g. '**A1d):**' ) from the markdown cell, as this will have to be parsed by the grading system and matched to your answer. \n",
    "* Ensure the notebook does not rely on current notebook or system state!\n",
    "  * Use `Kernel --> Restart & Run All` to see if you are using any definitions, variables etc. that \n",
    "    are not in scope anymore.\n",
    "  * Do not rename the dataset you use, and load it from the same directory that your ipynb-notebook is located in, i.e., your   working directory. In particular, when loading your file via a pandas or numpy command, make sure that it has the form `pd.read_csv(\"qog_file.csv\")` instead of `pd.read_csv(\"C:/User/Path/to/your/Homework/qog_file.csv\")` so that the code directly works from our machines.\n",
    "* Make sure that your code is executable, any task for which the code does not directly run on our machine will be graded with 0 points.\n",
    "* You may create as many additional cells as you want, just make sure that your code is properly running through.\n",
    "* Ensure your code / notebook terminates in reasonable time.\n",
    "\n",
    "\n",
    "**There's a story behind each of these points! Don't expect us to fix your stuff!**"
   ]
  },
  {
   "cell_type": "markdown",
   "metadata": {},
   "source": [
    "##### List team members, including all student IDs, in the cell below:"
   ]
  },
  {
   "cell_type": "code",
   "execution_count": 1,
   "metadata": {},
   "outputs": [],
   "source": [
    "# credentials of all team members (you may add or remove items from the dictionary, but keep this dictionary structure)\n",
    "team_members = [\n",
    "    {\n",
    "        'first_name': 'Na Young',\n",
    "        'last_name': 'Ahn',\n",
    "        'student_id': 392326\n",
    "    },\n",
    "    {\n",
    "        'first_name': 'Esther',\n",
    "        'last_name': 'Tala',\n",
    "        'student_id': 368095\n",
    "    },\n",
    "    {\n",
    "        'first_name': 'Mika',\n",
    "        'last_name': 'Rosin',\n",
    "        'student_id': 395049\n",
    "    },\n",
    "    {\n",
    "        'first_name': 'Laurin',\n",
    "        'last_name': 'Ellenbeck',\n",
    "        'student_id': 372280\n",
    "    }\n",
    "]"
   ]
  },
  {
   "cell_type": "markdown",
   "metadata": {},
   "source": [
    "## Exploring the Quality of Government Dataset\n",
    "\n",
    "In this home assignment we are going to explore the 2020 Quality of Government dataset(s) that has been assembled by the QOG institute from University of Gothenburg.\n",
    "All data as well as documentation can be found here: https://www.qogdata.pol.gu.se/data/\n",
    "\n",
    "Note that we only consider the data that has been published in January 2020, i.e. the data files that contain the suffix \"jan20\". Do NOT use any other dataset other than those that can be found in this online repo, except for the data file that we refer to in task 1."
   ]
  },
  {
   "cell_type": "markdown",
   "metadata": {},
   "source": [
    "#### Plotting guidelines:\n",
    "* For both visualization tasks, you may only create ONE graphic. Thus, if you want to convey much information, think properly about how you can approach this. If you create an image full of subfigures, we will only count the LAST one.\n",
    "* To get full marks for your plots, we require that you consider the principles taught in lecture. In particular, your plot and the message they convey should be easy to understand. No chart-junk. Optimize the data to ink ratio. Make your plot informative!\n",
    "* Write a brief summary (<=5 sentences) of your plot into the specified markdown cell. \n",
    "* Make sure you also pay attention to details such as properly calibrated axes, understandable labels, properly placed legends, etc.\n",
    "* A baseline to obtain 50% of the points per task is given in the task description."
   ]
  },
  {
   "cell_type": "code",
   "execution_count": 10,
   "metadata": {},
   "outputs": [],
   "source": [
    "# a list of packages that can be used to solve this assignment\n",
    "# you may load additional packages (cf instructions above)\n",
    "import numpy as np\n",
    "import pandas as pd\n",
    "from matplotlib import pyplot as plt\n",
    "import seaborn as sns"
   ]
  },
  {
   "cell_type": "markdown",
   "metadata": {},
   "source": [
    "### Task 1: Analyzing Life Expectancy  (50 pts)\n",
    "\n",
    "It is widely known that in most countries in Africa, the life expectancy is much lower than in well-developed countries such as Germany. In this first part of the homework, we are looking into this issue.\n",
    "\n",
    "We are going to investigate differences with respect to continents, and we consider five continents: Africa, Americas, Asia, Europe, Oceania. We use the following reference allocation from countries to continents:  \n",
    "https://github.com/lukes/ISO-3166-Countries-with-Regional-Codes/blob/master/all/all.csv\n",
    "\n",
    "Note that loading this file into your notebook will also yield the easiest way to add continent information to the QOG data. Again, keep the existing file name \"all.csv\"."
   ]
  },
  {
   "cell_type": "markdown",
   "metadata": {},
   "source": [
    "#### a) Collecting Life Expectancies (10 pts)\n",
    "\n",
    "Collect the life expectancies (column \"wdi_lifexp\") of all European and all African countries, and store them in two distinct one-dimensional numpy arrays. More precisely, store the life expectancies of the European countries in a variable called ```le_eu```, and the life expectancies of the African countries in a variable called ```le_af```. Remove all NaN-values from the data!  \n",
    "__Note:__ Make sure to not alter these arrays in later subtasks, as otherwise this will result in errors in the automated grading!"
   ]
  },
  {
   "cell_type": "code",
   "execution_count": 9,
   "metadata": {},
   "outputs": [],
   "source": [
    "##Nayoung\n",
    "\n",
    "# qog has basic, standard, oecd data in cross sectional(cs) or timeseries(ts)\n",
    "# we do not use oecd data since it only has 36 countries excluding many african nations\n",
    "# we only use jan20 data\n",
    "\n",
    "df_qog_bas = pd.read_csv(\"qog_bas_cs_jan20.csv\", na_values=\"NaN\")\n",
    "df_reg = pd.read_csv(\"all.csv\")\n",
    "\n",
    "df1 = df_qog_bas[['cname', 'wdi_lifexp']]\n",
    "\n",
    "df2 = df_reg[['name', 'region']]\n",
    "df2.rename(columns={'name':'cname'}, inplace=True)\n",
    "\n",
    "df_lifexp = pd.merge(df1, df2, how='left', on='cname')\n",
    "\n",
    "le_af = df_lifexp[df_lifexp['region'] == 'Africa'].wdi_lifexp.dropna().to_numpy(dtype=float)\n",
    "le_eu = df_lifexp[df_lifexp['region'] == 'Europe'].wdi_lifexp.dropna().to_numpy(dtype=float)"
   ]
  },
  {
   "cell_type": "markdown",
   "metadata": {},
   "source": [
    "#### b) The Test Statistic (5 pts)\n",
    "\n",
    "We would like to test whether the life expectancy in Africa is significantly lower than in Europe. Choose an appropriate test statistic based on the average life expectancies per country, and implement a function ```my_statistic``` that computes this corresponding statistic. Use the function signature specified in the cell below."
   ]
  },
  {
   "cell_type": "code",
   "execution_count": 4,
   "metadata": {},
   "outputs": [],
   "source": [
    "##Nayoung\n",
    "\n",
    "# INPUT VALUES:\n",
    "# v1: numpy array representing life expectancies in Europe (could also be any other data array)\n",
    "# v2: numpy array representing life expectancies in Africa (could also be any other data array)\n",
    "#\n",
    "# RETURN:\n",
    "# resulting value of test statistic, as float\n",
    "\n",
    "def my_statistic(v1, v2):\n",
    "    # your code here\n",
    "    mean_diff = np.mean(v1) - np.mean(v2)\n",
    "    return mean_diff\n"
   ]
  },
  {
   "cell_type": "code",
   "execution_count": 5,
   "metadata": {},
   "outputs": [
    {
     "data": {
      "text/plain": [
       "16.17166769613248"
      ]
     },
     "execution_count": 5,
     "metadata": {},
     "output_type": "execute_result"
    }
   ],
   "source": [
    "my_statistic(le_eu, le_af)"
   ]
  },
  {
   "cell_type": "markdown",
   "metadata": {},
   "source": [
    "#### c) Automating Simulation (10 pts)\n",
    "\n",
    "We want to apply the results from a) and b) to conduct a statistical test on the hypothesis that life expectancy in African countries is significantly lower than in European countries. For that purpose, write a function ```my_test``` that performs this test by means of a randomized simulation. In that simulation, we randomize the life expectancies between the continents ```num_sim``` times, each time computing the test statistic specified by ```stat_func```, to calculate the corresponding p-value. Use the function stub specified in the cell below. Note that the resulting function can also generalize to other test scenarios."
   ]
  },
  {
   "cell_type": "code",
   "execution_count": 6,
   "metadata": {},
   "outputs": [],
   "source": [
    "##Esther, Laurin\n",
    "\n",
    "choice_divider = 30\n",
    "\n",
    "def my_test(v1, v2, stat_func, num_sim):\n",
    "    count = 0\n",
    "    # Calculate how many elements to take each run.\n",
    "    # Determined by the smallest set and ensure that atleast 1 element is taken.\n",
    "    choice_size = max(int(min(len(v1), min(v2) / choice_divider)), 1)\n",
    "    for i in range(num_sim):\n",
    "        r1 = np.random.choice(v1, size=choice_size, replace=False)\n",
    "        r2 = np.random.choice(v2, size=choice_size, replace=False)        \n",
    "        \n",
    "        if stat_func(r1, r2) < 0:\n",
    "            count += 1\n",
    "    return count/num_sim"
   ]
  },
  {
   "cell_type": "markdown",
   "metadata": {},
   "source": [
    "#### d) Running the Test (5 pts)\n",
    "\n",
    "Apply the function from c) to conduct a statistical test on the hypothesis that life expectancy in African countries is significantly lower than in European countries, using 10,000 randomizations. \n",
    "Save the resulting p-value into a variable called ```p_val``` and interpret its value.\n",
    "Is there indeed a statistically significant difference in life expectancies between Europe and Africa? Write your answer into the cell __A1d)__ ."
   ]
  },
  {
   "cell_type": "code",
   "execution_count": 7,
   "metadata": {},
   "outputs": [
    {
     "name": "stdout",
     "output_type": "stream",
     "text": [
      "0.018\n"
     ]
    }
   ],
   "source": [
    "p_val = my_test(le_eu, le_af, my_statistic, 10000)\n",
    "print(p_val)"
   ]
  },
  {
   "cell_type": "markdown",
   "metadata": {},
   "source": [
    "**A1d):** \n",
    "\n",
    "Yes, there is indeed a statistically significant difference in life expectancies between Europe and Africa as we can deduct from the p-value. We start with the null hypothesis is that life expectancy in Africa is not lower than in Europe. Because the p-value is < 0.05 the life expectancy in African countries is significantly lower than that of European countries. In other words, we can deduce that > 95 percent of the time, European countries show higher life expectancy than that of African countries. \n"
   ]
  },
  {
   "cell_type": "markdown",
   "metadata": {},
   "source": [
    "#### e) Visualization  (20 pt):\n",
    "We now consider the life expectancies over all continents. Create an informative visualization that points out how the life expectancies over all five continents differ. Save this visualization into a file called *life_expectancy_plot.png*, and provide a proper description of your plot, including takeaways from your visualization, in cell **D1e)**!\n",
    "\n",
    "50% baseline: Plotting life expectancy means by continent against each other in a clean plot."
   ]
  },
  {
   "cell_type": "code",
   "execution_count": 11,
   "metadata": {},
   "outputs": [
    {
     "data": {
      "text/plain": [
       "<matplotlib.legend.Legend at 0x23e3f62ec08>"
      ]
     },
     "execution_count": 11,
     "metadata": {},
     "output_type": "execute_result"
    },
    {
     "data": {
      "image/png": "[encoded data removed]",
      "text/plain": [
       "<Figure size 432x288 with 1 Axes>"
      ]
     },
     "metadata": {
      "needs_background": "light"
     },
     "output_type": "display_data"
    }
   ],
   "source": [
    "sns.boxplot(x=\"region\", y=\"wdi_lifexp\", hue=\"region\", data=df_lifexp, dodge=False)\n",
    "\n",
    "plt.savefig('life_expectancy_plot.png')\n",
    "plt.legend\n",
    "plt.legend([],[], frameon=False)"
   ]
  },
  {
   "cell_type": "markdown",
   "metadata": {},
   "source": [
    "**D1e):** \n",
    "\n",
    "Comparing stats only with their respective average can be misleading as mean values are very suceptible to any extreme outlier. Hence, we chose a boxplot that shows not only the median (Q2), first and third quartile (Q1, Q3) represented by the box and minimum(Q1 - 1.5*IQR(Interquartile Range) and maximum(Q3 + 1.5*IQR) represented by the whiskers and lastly outliers in points. In such manner we get a holistic understanding of the distribution of the life expectancy in different countinents. Each regions are represented in different colors as shown in the legend and the verticle, horizontal axes respectivly represent life expectation and different continents."
   ]
  },
  {
   "cell_type": "markdown",
   "metadata": {},
   "source": [
    "### Task 2: Investigating Corruption (50 pts)\n",
    "\n",
    "In this second part, we focus on corruption as measured by the _Political Corruption Index_ (Column vdem_corr). \n",
    "Explore the data for factors that correlate with corruption, and visualize your findings.  Save this visualization into a file called *corruption_plot.png*, and provide a proper description of your plot, including takeaways from your visualization, in cell **D2**!  \n",
    "__Note__: you may NOT consider correlations with other columns that explicitly measure some form of corruption.\n",
    "\n",
    "50% Baseline: Plotting values from one other column in the data against the Political Corruption Index in a properly designed plot, where some correlation becomes apparent."
   ]
  },
  {
   "cell_type": "code",
   "execution_count": 12,
   "metadata": {
    "scrolled": true
   },
   "outputs": [
    {
     "name": "stdout",
     "output_type": "stream",
     "text": [
      "Column: wbgi_cce, Value: -0.9082863406986007\n",
      "Column: ti_cpi, Value: -0.8943329614676325\n",
      "Column: icrg_qog, Value: -0.8588773500244776\n",
      "Column: wbgi_rle, Value: -0.8566574008051191\n"
     ]
    },
    {
     "data": {
      "image/png": "[encoded data removed]",
      "text/plain": [
       "<Figure size 432x288 with 1 Axes>"
      ]
     },
     "metadata": {
      "needs_background": "light"
     },
     "output_type": "display_data"
    }
   ],
   "source": [
    "from pandas.api.types import is_numeric_dtype\n",
    "import math\n",
    "\n",
    "#df_vdem_corr = df_qog_bas.corrwith(df_qog_bas.vdem_corr, axis=0, drop=False, method='pearson')\n",
    "#df_vdem_corr.dropna().abs().sort_values(ascending = False)\n",
    "\n",
    "df_vdem_corr = df_qog_bas[df_qog_bas[\"vdem_corr\"].notna()]\n",
    "\n",
    "correlation_threshold = 0.85\n",
    "\n",
    "# Columns to check\n",
    "columns = list(df_vdem_corr)\n",
    "columns.remove(\"vdem_corr\")\n",
    "\n",
    "correlations = {}\n",
    "\n",
    "for column in columns:    \n",
    "    # Drop rows that are unusable\n",
    "    df_column = df_vdem_corr[df_vdem_corr[column].notna()]    \n",
    "    \n",
    "    # Only check numeric\n",
    "    if is_numeric_dtype(df_vdem_corr[column]):\n",
    "        correlation = df_column[column].corr(df_column[\"vdem_corr\"], method=\"pearson\")\n",
    "        if not math.isnan(float(correlation)) and abs(correlation) > correlation_threshold:\n",
    "            correlations[column] = correlation\n",
    "\n",
    "correlations = sorted(correlations.items(), key = lambda item: abs(item[1]), reverse=True)\n",
    "            \n",
    "for (key, value) in correlations:\n",
    "    print(f\"Column: {key}, Value: {value}\")\n",
    "\n",
    "#print()    \n",
    "#print(f\"Selecting: {correlations[0][0]} with value {correlations[0][1]}\")\n",
    "        \n",
    "corr_index = \"wbgi_rle\"\n",
    "data_without_corr = pd.notnull((df_vdem_corr[corr_index]))\n",
    "plot_data = df_vdem_corr[data_without_corr]\n",
    "\n",
    "plt.scatter(plot_data['vdem_corr'], plot_data[corr_index])\n",
    "plt.xlabel(\"Political Corruption Index (vdem_corr)\")\n",
    "plt.ylabel(\"Rule of Law, Estimate (wbgi_rle)\")\n",
    "plt.title(\"Correlation\")\n",
    "\n",
    "# Save first because of jupyter\n",
    "plt.savefig(\"corruption_plot.png\")\n",
    "plt.show()"
   ]
  },
  {
   "cell_type": "markdown",
   "metadata": {},
   "source": [
    "**D2:** \n",
    "The dots each represent a country. The x axis shows the corruption value and the y axis the Rule of Law, Estimate. A clear correlation between thoose values can be seen, as if the Rule of Law increases, the corruption sinks. Likewise the corruption rises the lower the Rule of Law is.\n",
    "\n",
    "We omitted the wbgi_cce, ti_cpi, icrg_qog values, as they measure corruption.\n"
   ]
  },
  {
   "cell_type": "code",
   "execution_count": null,
   "metadata": {},
   "outputs": [],
   "source": []
  }
 ],
 "metadata": {
  "kernelspec": {
   "display_name": "Python 3",
   "language": "python",
   "name": "python3"
  },
  "language_info": {
   "codemirror_mode": {
    "name": "ipython",
    "version": 3
   },
   "file_extension": ".py",
   "mimetype": "text/x-python",
   "name": "python",
   "nbconvert_exporter": "python",
   "pygments_lexer": "ipython3",
   "version": "3.7.4"
  }
 },
 "nbformat": 4,
 "nbformat_minor": 2
}
